{
 "cells": [
  {
   "cell_type": "markdown",
   "metadata": {},
   "source": [
    "# Hacker News\n",
    "## Posts analysis\n",
    "\n",
    "The aim of this project is to ask the two following questions:\n",
    "\n",
    "- Do Ask HN or Show HN receive more comments on average?\n",
    "- Do posts created at a certain time receive more comments on average?\n",
    "\n"
   ]
  },
  {
   "cell_type": "code",
   "execution_count": 1,
   "metadata": {},
   "outputs": [
    {
     "name": "stdout",
     "output_type": "stream",
     "text": [
      "Posts headers\n",
      "\n",
      "['id', 'title', 'url', 'num_points', 'num_comments', 'author', 'created_at']\n",
      "Sample posts\n",
      "\n",
      "\n",
      "\n",
      "['12579008', 'You have two days to comment if you want stem cells to be classified as your own', 'http://www.regulations.gov/document?D=FDA-2015-D-3719-0018', '1', '0', 'altstar', '9/26/2016 3:26']\n",
      "\n",
      "\n",
      "['12579005', 'SQLAR  the SQLite Archiver', 'https://www.sqlite.org/sqlar/doc/trunk/README.md', '1', '0', 'blacksqr', '9/26/2016 3:24']\n",
      "\n",
      "\n",
      "['12578997', 'What if we just printed a flatscreen television on the side of our boxes?', 'https://medium.com/vanmoof/our-secrets-out-f21c1f03fdc8#.ietxmez43', '1', '0', 'pavel_lishin', '9/26/2016 3:19']\n",
      "\n",
      "Posts count: 293119\n"
     ]
    }
   ],
   "source": [
    "# Read data\n",
    "from csv import reader\n",
    "hn_posts_data = open('/home/li0t/Documents/workspace/data-sets/HN_posts_year_to_Sep_26_2016.csv')\n",
    "hn_posts_read = reader(hn_posts_data)\n",
    "hn_posts = list(hn_posts_read)\n",
    "\n",
    "# Remove headers\n",
    "hn_headers = hn_posts[0] \n",
    "hn_posts = hn_posts[1:]\n",
    "\n",
    "print('Posts headers\\n')\n",
    "print(hn_headers)\n",
    "\n",
    "print('Sample posts\\n')\n",
    "for post in hn_posts[0:3]:\n",
    "    print('\\n')\n",
    "    print(post)\n",
    "    \n",
    "print('\\nPosts count: {0}'.format(len(hn_posts)))"
   ]
  },
  {
   "cell_type": "markdown",
   "metadata": {},
   "source": [
    "## Preparing data\n",
    "Let's split the data in two three different categories: \n",
    "1. Those that are for HN Ask\n",
    "2. Those that are for HN Show\n",
    "3. Other posts"
   ]
  },
  {
   "cell_type": "code",
   "execution_count": 2,
   "metadata": {},
   "outputs": [
    {
     "name": "stdout",
     "output_type": "stream",
     "text": [
      "HN Ask posts: 9139\n",
      "HN Show posts: 10158\n",
      "HN Other posts: 273822\n"
     ]
    }
   ],
   "source": [
    "# Create a map to the headers columns\n",
    "cols = {\n",
    "    'id': 0,\n",
    "    'title': 1,\n",
    "    'url': 2,\n",
    "    'num_points': 3,\n",
    "    'num_comments': 4,\n",
    "    'author': 5,\n",
    "    'created_at': 6\n",
    "}\n",
    "\n",
    "def is_post_type(post, post_type):\n",
    "    title = post[cols['title']].lower()\n",
    "    return title.startswith(post_type)\n",
    "\n",
    "hn_ask_posts = []\n",
    "hn_show_posts = []\n",
    "hn_other_posts = []\n",
    "\n",
    "for post in hn_posts:\n",
    "    if is_post_type(post, 'ask hn'):\n",
    "        hn_ask_posts.append(post)\n",
    "    elif is_post_type(post, 'show hn'):\n",
    "        hn_show_posts.append(post)\n",
    "    else: \n",
    "        hn_other_posts.append(post)\n",
    "        \n",
    "        \n",
    "print('HN Ask posts: {0}'.format(len(hn_ask_posts)))\n",
    "print('HN Show posts: {0}'.format(len(hn_show_posts)))\n",
    "print('HN Other posts: {0}'.format(len(hn_other_posts)))"
   ]
  },
  {
   "cell_type": "markdown",
   "metadata": {},
   "source": [
    "## Counting comments\n",
    "Which type of posts get the most comments?"
   ]
  },
  {
   "cell_type": "code",
   "execution_count": 3,
   "metadata": {},
   "outputs": [
    {
     "name": "stdout",
     "output_type": "stream",
     "text": [
      "HN Ask posts comments average: 10.39\n",
      "HN Show posts comments average: 4.89\n"
     ]
    }
   ],
   "source": [
    "# Count comments and calculate their averages\n",
    "hn_ask_comments = 0\n",
    "hn_show_comments = 0\n",
    "\n",
    "for post in hn_posts:\n",
    "    comments = float(post[cols['num_comments']])\n",
    "    \n",
    "    if is_post_type(post, 'ask hn'):\n",
    "        hn_ask_comments += comments\n",
    "    elif is_post_type(post, 'show hn'):\n",
    "        hn_show_comments += comments\n",
    "\n",
    "hn_ask_comments_avg = hn_ask_comments / len(hn_ask_posts)\n",
    "hn_show_comments_avg = hn_show_comments / len(hn_show_posts)\n",
    "\n",
    "print('HN Ask posts comments average: {0:.2f}'.format(hn_ask_comments_avg))\n",
    "print('HN Show posts comments average: {0:.2f}'.format(hn_show_comments_avg))"
   ]
  },
  {
   "cell_type": "markdown",
   "metadata": {},
   "source": [
    "**On average HN Ask posts get roughly 2.5 times more comments than HN Show posts.**\n",
    "\n",
    "That said we'll focus our analysis in the **HN Ask** posts."
   ]
  },
  {
   "cell_type": "markdown",
   "metadata": {},
   "source": [
    "## Determining time distribution\n",
    "How do HN Ask posts (and their comments) distribute over the hours of the day?"
   ]
  },
  {
   "cell_type": "code",
   "execution_count": 18,
   "metadata": {},
   "outputs": [
    {
     "name": "stdout",
     "output_type": "stream",
     "text": [
      "Sorted average comments by hour\n",
      "\n",
      "15:00 : 28.68\n",
      "13:00 : 16.32\n",
      "12:00 : 12.38\n",
      "02:00 : 11.14\n",
      "10:00 : 10.68\n",
      "04:00 : 9.71\n",
      "14:00 : 9.69\n",
      "17:00 : 9.45\n",
      "08:00 : 9.19\n",
      "11:00 : 8.96\n",
      "22:00 : 8.80\n",
      "05:00 : 8.79\n",
      "20:00 : 8.75\n",
      "21:00 : 8.69\n",
      "03:00 : 7.95\n",
      "18:00 : 7.94\n",
      "16:00 : 7.71\n",
      "00:00 : 7.56\n",
      "01:00 : 7.41\n",
      "19:00 : 7.16\n",
      "07:00 : 7.01\n",
      "06:00 : 6.78\n",
      "23:00 : 6.70\n",
      "09:00 : 6.65\n"
     ]
    }
   ],
   "source": [
    "import datetime as dt\n",
    "\n",
    "date_format = '%m/%d/%Y %H:%M'\n",
    "\n",
    "# Count comment by date\n",
    "comments_by_date = []\n",
    "\n",
    "for post in hn_ask_posts:\n",
    "    date_str = post[cols['created_at']]\n",
    "    comments = float(post[cols['num_comments']])\n",
    "    \n",
    "    comments_by_date.append([date_str, comments])\n",
    "    \n",
    "posts_by_hour = {}\n",
    "comments_by_hour = {}\n",
    "\n",
    "# Count posts and comments by hour\n",
    "for elem in comments_by_date:\n",
    "    date_str = elem[0]\n",
    "    date = dt.datetime.strptime(date_str, date_format)\n",
    "    hour = date.strftime('%H')\n",
    "        \n",
    "    comments = elem[1]\n",
    "    \n",
    "    if hour in posts_by_hour:\n",
    "        posts_by_hour[hour] += 1\n",
    "        comments_by_hour[hour] += comments\n",
    "    else: \n",
    "        posts_by_hour[hour] = 1\n",
    "        comments_by_hour[hour] = comments\n",
    "    \n",
    "# Calculate average comment by hour\n",
    "avg_comments_by_hour = {}\n",
    "\n",
    "for hour in posts_by_hour:\n",
    "    posts = posts_by_hour[hour]\n",
    "    comments = comments_by_hour[hour]\n",
    "    \n",
    "    average = comments / posts\n",
    "    \n",
    "    avg_comments_by_hour[hour] = average\n",
    "    \n",
    "# Swap and sort results\n",
    "avg_comments_by_hour_swap = {}\n",
    "\n",
    "for hour in avg_comments_by_hour:\n",
    "    average = avg_comments_by_hour[hour]\n",
    "    avg_comments_by_hour_swap[average] = hour\n",
    "\n",
    "    \n",
    "sorted_averages = sorted(avg_comments_by_hour_swap, reverse=True)\n",
    "\n",
    "avg_comments_by_hour_result = {}\n",
    "\n",
    "for average in sorted_averages:\n",
    "    hour = avg_comments_by_hour_swap[average]\n",
    "    avg_comments_by_hour_result[hour] = average\n",
    "    \n",
    "print('Sorted average comments by hour\\n')\n",
    "for hour in avg_comments_by_hour_result:\n",
    "    average = avg_comments_by_hour_result[hour]\n",
    "    print('{0}:00 : {1:.2f}'.format(hour, average))\n",
    "    \n",
    "\n",
    "\n",
    "\n",
    "\n",
    "\n",
    "\n",
    "    \n",
    "    \n"
   ]
  },
  {
   "cell_type": "markdown",
   "metadata": {},
   "source": [
    "## Conclusions\n",
    "The HN Ask posts who get the greatest average of comments are between 12PM to 15PM."
   ]
  }
 ],
 "metadata": {
  "kernelspec": {
   "display_name": "Python 3",
   "language": "python",
   "name": "python3"
  },
  "language_info": {
   "codemirror_mode": {
    "name": "ipython",
    "version": 3
   },
   "file_extension": ".py",
   "mimetype": "text/x-python",
   "name": "python",
   "nbconvert_exporter": "python",
   "pygments_lexer": "ipython3",
   "version": "3.6.9"
  }
 },
 "nbformat": 4,
 "nbformat_minor": 4
}
