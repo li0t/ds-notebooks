{
 "cells": [
  {
   "cell_type": "markdown",
   "metadata": {},
   "source": [
    "# Popular data science questions\n",
    "\n",
    "## Description\n",
    "\n",
    "In this project we'll dive into the popular Q&A site [Data Science Stack Exchange (DSSE)](https://datascience.stackexchange.com/) to find out:\n",
    "\n",
    "**¿What is it that people want to learn about in data science?**\n",
    "\n",
    "### Exporing the site\n",
    "\n",
    "DSSE is part of the Q&A sites network [Stack Exchange](https://stackexchange.com/), as any of the other sites in Stack Exchange is composed of only questions with answers.\n",
    "\n",
    "The objective of the site is to answer questions about Data Science and Machine Learning from both professionals and learners in the field.\n",
    "\n",
    "<img src=\"images/stack1.png\">\n",
    "\n",
    "The home page offers us with 3 ways of finding questions:\n",
    "1. Tags\n",
    "2. If they are bountied, if they are popular right now, in the week or month\n",
    "3. If they are unaswered.\n",
    "\n",
    "Of those three, the most interesting would be what are the tags that appear the most and what keywords are found most often in popular questions.\n",
    "\n",
    "### ¿What a question looks like?\n",
    "\n",
    "All questions display when it was asked, when it was it's last update, how many times it was seen and the upvotes/downvotes total\n",
    "\n",
    "<img src=\"images/stack2.png\">\n",
    "\n",
    "Below the question we can also see the tags, the use who posted it and when was created and updated.\n",
    "\n",
    "<img src=\"images/stack3.png\">\n",
    "\n",
    "Finally we see the answers to the question, with the most voted (an usually the accepted one) at the top.\n",
    "\n",
    "<img src=\"images/stack4.png\">\n",
    "\n",
    "As part of the exploration process I posted a question that [can be found here](https://datascience.stackexchange.com/q/85707/107754).\n",
    "\n",
    "## Retrieving data\n",
    "First, to get a sense of what's going on in DSSE I wrote a query in [Stack Exchange Data Explorer](https://data.stackexchange.com/) to find out what are the hottest tags. \n",
    "\n",
    "<img src=\"images/stack5.png\">\n",
    "\n",
    "Which gave the following results:\n",
    "\n",
    "<img src=\"images/stack6.png\">\n",
    "\n",
    "Also looking at the **Posts** table we can see that _Title_, _Body_, _ViewCount_ and _Score_ could have useful information for our investigation.\n",
    "\n",
    "<img src=\"images/stack7.png\">\n",
    "\n"
   ]
  },
  {
   "cell_type": "code",
   "execution_count": null,
   "metadata": {},
   "outputs": [],
   "source": []
  },
  {
   "cell_type": "code",
   "execution_count": null,
   "metadata": {},
   "outputs": [],
   "source": []
  },
  {
   "cell_type": "markdown",
   "metadata": {},
   "source": [
    "\n"
   ]
  }
 ],
 "metadata": {
  "kernelspec": {
   "display_name": "Python 3",
   "language": "python",
   "name": "python3"
  },
  "language_info": {
   "codemirror_mode": {
    "name": "ipython",
    "version": 3
   },
   "file_extension": ".py",
   "mimetype": "text/x-python",
   "name": "python",
   "nbconvert_exporter": "python",
   "pygments_lexer": "ipython3",
   "version": "3.8.5"
  }
 },
 "nbformat": 4,
 "nbformat_minor": 4
}
