{
 "cells": [
  {
   "cell_type": "markdown",
   "metadata": {},
   "source": [
    "# Popular data science questions\n",
    "\n",
    "## Description\n",
    "\n",
    "In this project we'll dive into the popular Q&A site [Data Science Stack Exchange (DSSE)](https://datascience.stackexchange.com/) to find out:\n",
    "\n",
    "**¿What is it that people want to learn about in data science?**\n",
    "\n",
    "### Exporing the site\n",
    "\n",
    "DSSE is part of the Q&A sites network [Stack Exchange](https://stackexchange.com/), as any of the other sites in Stack Exchange is composed of only questions with answers.\n",
    "\n",
    "The objective of the site is to answer questions about Data Science and Machine Learning from both professionals and learners in the field.\n",
    "\n",
    "<img src=\"images/stack1.png\">\n",
    "\n",
    "The home page offers us with different ways of finding questions:\n",
    "1. Tags\n",
    "2. If they are popular right now, in the week or month\n",
    "3. If they are unaswered.\n",
    "4. If they are bountied.\n",
    "\n",
    "Of those, the most interesting would be what are the tags that appear the most and what keywords are found **most often in popular questions**.\n",
    "\n",
    "### ¿What a question looks like?\n",
    "\n",
    "All questions display when it was asked, when it was it's last update, how many times it was seen and the upvotes/downvotes total\n",
    "\n",
    "<img src=\"images/stack2.png\">\n",
    "\n",
    "Below the question we can also see the tags, the use who posted it and when was created and updated.\n",
    "\n",
    "<img src=\"images/stack3.png\">\n",
    "\n",
    "Finally we see the answers to the question, with the most voted (an usually the accepted one) at the top.\n",
    "\n",
    "<img src=\"images/stack4.png\">\n",
    "\n",
    "As part of the exploration process I posted a question that [can be found here](https://datascience.stackexchange.com/q/85707/107754).\n",
    "\n",
    "## Retrieving data\n",
    "First, to get a sense of what's going on in DSSE I wrote a query in [Stack Exchange Data Explorer](https://data.stackexchange.com/datascience/query/1344248/number-of-posts-by-tag) to find out what are the hottest tags. \n",
    "\n",
    "<img src=\"images/stack5.png\">\n",
    "\n",
    "Which gave the following results:\n",
    "\n",
    "<img src=\"images/stack6.png\">\n",
    "\n",
    "Also looking at the **Posts** table we can see that _Tags_, _ViewCount_, _FavoriteCount_, _AnswerCount_, _CommentCount_ and _Score_ could have useful information for our investigation.\n",
    "\n",
    "<img src=\"images/stack7.png\">\n",
    "\n",
    "## Popular questions\n",
    "As mention above we'll focus on popular questions to determine Data Science interests in the comunnity.\n",
    "\n",
    "# Reading data\n",
    "We have a sample data in ```2020-2019-questions-csv``` with all the questions in DSSE from January 1, 2019 to Novemeber 15,  2020.\n",
    "\n",
    "<img src=\"images/stack8.png\">"
   ]
  },
  {
   "cell_type": "code",
   "execution_count": 1,
   "metadata": {},
   "outputs": [
    {
     "name": "stdout",
     "output_type": "stream",
     "text": [
      "Requirement already satisfied: pandas in /home/li0t/.local/lib/python3.8/site-packages (1.1.1)\n",
      "Requirement already satisfied: pytz>=2017.2 in /usr/lib/python3/dist-packages (from pandas) (2019.3)\n",
      "Requirement already satisfied: python-dateutil>=2.7.3 in /usr/lib/python3/dist-packages (from pandas) (2.7.3)\n",
      "Requirement already satisfied: numpy>=1.15.4 in /home/li0t/.local/lib/python3.8/site-packages (from pandas) (1.19.1)\n",
      "Requirement already satisfied: matplotlib in /home/li0t/.local/lib/python3.8/site-packages (3.3.1)\n",
      "Requirement already satisfied: python-dateutil>=2.1 in /usr/lib/python3/dist-packages (from matplotlib) (2.7.3)\n",
      "Requirement already satisfied: cycler>=0.10 in /home/li0t/.local/lib/python3.8/site-packages (from matplotlib) (0.10.0)\n",
      "Requirement already satisfied: numpy>=1.15 in /home/li0t/.local/lib/python3.8/site-packages (from matplotlib) (1.19.1)\n",
      "Requirement already satisfied: kiwisolver>=1.0.1 in /home/li0t/.local/lib/python3.8/site-packages (from matplotlib) (1.2.0)\n",
      "Requirement already satisfied: pillow>=6.2.0 in /usr/lib/python3/dist-packages (from matplotlib) (7.0.0)\n",
      "Requirement already satisfied: pyparsing!=2.0.4,!=2.1.2,!=2.1.6,>=2.0.3 in /home/li0t/.local/lib/python3.8/site-packages (from matplotlib) (2.4.7)\n",
      "Requirement already satisfied: certifi>=2020.06.20 in /home/li0t/.local/lib/python3.8/site-packages (from matplotlib) (2020.6.20)\n",
      "Requirement already satisfied: six in /usr/lib/python3/dist-packages (from cycler>=0.10->matplotlib) (1.14.0)\n",
      "Requirement already satisfied: numpy in /home/li0t/.local/lib/python3.8/site-packages (1.19.1)\n"
     ]
    }
   ],
   "source": [
    "# installing dependencies\n",
    "import sys\n",
    "!{sys.executable} -m pip install pandas\n",
    "!{sys.executable} -m pip install matplotlib\n",
    "!{sys.executable} -m pip install numpy"
   ]
  },
  {
   "cell_type": "code",
   "execution_count": 2,
   "metadata": {},
   "outputs": [],
   "source": [
    "# importing dependencies\n",
    "import matplotlib.pyplot as plt\n",
    "from matplotlib.patches import Ellipse\n",
    "import pandas as pd\n",
    "import numpy as np\n",
    "\n",
    "%matplotlib inline"
   ]
  },
  {
   "cell_type": "code",
   "execution_count": 3,
   "metadata": {},
   "outputs": [
    {
     "name": "stdout",
     "output_type": "stream",
     "text": [
      "<class 'pandas.core.frame.DataFrame'>\n",
      "RangeIndex: 597 entries, 0 to 596\n",
      "Data columns (total 3 columns):\n",
      " #   Column    Non-Null Count  Dtype \n",
      "---  ------    --------------  ----- \n",
      " 0   id        597 non-null    int64 \n",
      " 1   TagName   597 non-null    object\n",
      " 2   numPosts  597 non-null    int64 \n",
      "dtypes: int64(2), object(1)\n",
      "memory usage: 14.1+ KB\n",
      "None\n"
     ]
    },
    {
     "data": {
      "text/html": [
       "<div>\n",
       "<style scoped>\n",
       "    .dataframe tbody tr th:only-of-type {\n",
       "        vertical-align: middle;\n",
       "    }\n",
       "\n",
       "    .dataframe tbody tr th {\n",
       "        vertical-align: top;\n",
       "    }\n",
       "\n",
       "    .dataframe thead th {\n",
       "        text-align: right;\n",
       "    }\n",
       "</style>\n",
       "<table border=\"1\" class=\"dataframe\">\n",
       "  <thead>\n",
       "    <tr style=\"text-align: right;\">\n",
       "      <th></th>\n",
       "      <th>id</th>\n",
       "      <th>TagName</th>\n",
       "      <th>numPosts</th>\n",
       "    </tr>\n",
       "  </thead>\n",
       "  <tbody>\n",
       "    <tr>\n",
       "      <th>0</th>\n",
       "      <td>2</td>\n",
       "      <td>machine-learning</td>\n",
       "      <td>4231</td>\n",
       "    </tr>\n",
       "    <tr>\n",
       "      <th>1</th>\n",
       "      <td>46</td>\n",
       "      <td>python</td>\n",
       "      <td>2842</td>\n",
       "    </tr>\n",
       "    <tr>\n",
       "      <th>2</th>\n",
       "      <td>194</td>\n",
       "      <td>deep-learning</td>\n",
       "      <td>1928</td>\n",
       "    </tr>\n",
       "    <tr>\n",
       "      <th>3</th>\n",
       "      <td>81</td>\n",
       "      <td>neural-network</td>\n",
       "      <td>1653</td>\n",
       "    </tr>\n",
       "    <tr>\n",
       "      <th>4</th>\n",
       "      <td>324</td>\n",
       "      <td>keras</td>\n",
       "      <td>1380</td>\n",
       "    </tr>\n",
       "    <tr>\n",
       "      <th>...</th>\n",
       "      <td>...</td>\n",
       "      <td>...</td>\n",
       "      <td>...</td>\n",
       "    </tr>\n",
       "    <tr>\n",
       "      <th>592</th>\n",
       "      <td>977</td>\n",
       "      <td>generlized-advantaged-estimation</td>\n",
       "      <td>1</td>\n",
       "    </tr>\n",
       "    <tr>\n",
       "      <th>593</th>\n",
       "      <td>143</td>\n",
       "      <td>genetic</td>\n",
       "      <td>1</td>\n",
       "    </tr>\n",
       "    <tr>\n",
       "      <th>594</th>\n",
       "      <td>991</td>\n",
       "      <td>hmm</td>\n",
       "      <td>1</td>\n",
       "    </tr>\n",
       "    <tr>\n",
       "      <th>595</th>\n",
       "      <td>206</td>\n",
       "      <td>hog</td>\n",
       "      <td>1</td>\n",
       "    </tr>\n",
       "    <tr>\n",
       "      <th>596</th>\n",
       "      <td>940</td>\n",
       "      <td>imputation</td>\n",
       "      <td>1</td>\n",
       "    </tr>\n",
       "  </tbody>\n",
       "</table>\n",
       "<p>597 rows × 3 columns</p>\n",
       "</div>"
      ],
      "text/plain": [
       "      id                           TagName  numPosts\n",
       "0      2                  machine-learning      4231\n",
       "1     46                            python      2842\n",
       "2    194                     deep-learning      1928\n",
       "3     81                    neural-network      1653\n",
       "4    324                             keras      1380\n",
       "..   ...                               ...       ...\n",
       "592  977  generlized-advantaged-estimation         1\n",
       "593  143                           genetic         1\n",
       "594  991                               hmm         1\n",
       "595  206                               hog         1\n",
       "596  940                        imputation         1\n",
       "\n",
       "[597 rows x 3 columns]"
      ]
     },
     "execution_count": 3,
     "metadata": {},
     "output_type": "execute_result"
    }
   ],
   "source": [
    "# reading data\n",
    "tags = pd.read_csv(\"data-master/datascience-stackexchange/questions-by-tag.csv\")\n",
    "\n",
    "print(tags.info())\n",
    "\n",
    "tags"
   ]
  },
  {
   "cell_type": "code",
   "execution_count": 4,
   "metadata": {},
   "outputs": [
    {
     "name": "stdout",
     "output_type": "stream",
     "text": [
      "<class 'pandas.core.frame.DataFrame'>\n",
      "RangeIndex: 14061 entries, 0 to 14060\n",
      "Data columns (total 23 columns):\n",
      " #   Column                 Non-Null Count  Dtype  \n",
      "---  ------                 --------------  -----  \n",
      " 0   Id                     14061 non-null  int64  \n",
      " 1   PostTypeId             14061 non-null  int64  \n",
      " 2   AcceptedAnswerId       3933 non-null   float64\n",
      " 3   ParentId               0 non-null      float64\n",
      " 4   CreationDate           14061 non-null  object \n",
      " 5   DeletionDate           0 non-null      float64\n",
      " 6   Score                  14061 non-null  int64  \n",
      " 7   ViewCount              14061 non-null  int64  \n",
      " 8   Body                   14061 non-null  object \n",
      " 9   OwnerUserId            13985 non-null  float64\n",
      " 10  OwnerDisplayName       126 non-null    object \n",
      " 11  LastEditorUserId       5715 non-null   float64\n",
      " 12  LastEditorDisplayName  24 non-null     object \n",
      " 13  LastEditDate           5738 non-null   object \n",
      " 14  LastActivityDate       14061 non-null  object \n",
      " 15  Title                  14061 non-null  object \n",
      " 16  Tags                   14061 non-null  object \n",
      " 17  AnswerCount            14061 non-null  int64  \n",
      " 18  CommentCount           14061 non-null  int64  \n",
      " 19  FavoriteCount          2359 non-null   float64\n",
      " 20  ClosedDate             832 non-null    object \n",
      " 21  CommunityOwnedDate     1 non-null      object \n",
      " 22  ContentLicense         14061 non-null  object \n",
      "dtypes: float64(6), int64(6), object(11)\n",
      "memory usage: 2.5+ MB\n",
      "None\n"
     ]
    },
    {
     "data": {
      "text/html": [
       "<div>\n",
       "<style scoped>\n",
       "    .dataframe tbody tr th:only-of-type {\n",
       "        vertical-align: middle;\n",
       "    }\n",
       "\n",
       "    .dataframe tbody tr th {\n",
       "        vertical-align: top;\n",
       "    }\n",
       "\n",
       "    .dataframe thead th {\n",
       "        text-align: right;\n",
       "    }\n",
       "</style>\n",
       "<table border=\"1\" class=\"dataframe\">\n",
       "  <thead>\n",
       "    <tr style=\"text-align: right;\">\n",
       "      <th></th>\n",
       "      <th>Id</th>\n",
       "      <th>PostTypeId</th>\n",
       "      <th>AcceptedAnswerId</th>\n",
       "      <th>ParentId</th>\n",
       "      <th>CreationDate</th>\n",
       "      <th>DeletionDate</th>\n",
       "      <th>Score</th>\n",
       "      <th>ViewCount</th>\n",
       "      <th>Body</th>\n",
       "      <th>OwnerUserId</th>\n",
       "      <th>...</th>\n",
       "      <th>LastEditDate</th>\n",
       "      <th>LastActivityDate</th>\n",
       "      <th>Title</th>\n",
       "      <th>Tags</th>\n",
       "      <th>AnswerCount</th>\n",
       "      <th>CommentCount</th>\n",
       "      <th>FavoriteCount</th>\n",
       "      <th>ClosedDate</th>\n",
       "      <th>CommunityOwnedDate</th>\n",
       "      <th>ContentLicense</th>\n",
       "    </tr>\n",
       "  </thead>\n",
       "  <tbody>\n",
       "    <tr>\n",
       "      <th>0</th>\n",
       "      <td>43363</td>\n",
       "      <td>1</td>\n",
       "      <td>NaN</td>\n",
       "      <td>NaN</td>\n",
       "      <td>2019-01-01 03:53:02</td>\n",
       "      <td>NaN</td>\n",
       "      <td>0</td>\n",
       "      <td>36</td>\n",
       "      <td>&lt;p&gt;I'm working on project that involves readin...</td>\n",
       "      <td>62929.0</td>\n",
       "      <td>...</td>\n",
       "      <td>NaN</td>\n",
       "      <td>2020-06-03 18:03:45</td>\n",
       "      <td>How to detect when the \"bibliography\" of a pap...</td>\n",
       "      <td>&lt;machine-learning&gt;&lt;nlp&gt;</td>\n",
       "      <td>1</td>\n",
       "      <td>0</td>\n",
       "      <td>NaN</td>\n",
       "      <td>NaN</td>\n",
       "      <td>NaN</td>\n",
       "      <td>CC BY-SA 4.0</td>\n",
       "    </tr>\n",
       "    <tr>\n",
       "      <th>1</th>\n",
       "      <td>43366</td>\n",
       "      <td>1</td>\n",
       "      <td>NaN</td>\n",
       "      <td>NaN</td>\n",
       "      <td>2019-01-01 06:02:07</td>\n",
       "      <td>NaN</td>\n",
       "      <td>3</td>\n",
       "      <td>55</td>\n",
       "      <td>&lt;p&gt;How does a given deep cnn model performance...</td>\n",
       "      <td>65157.0</td>\n",
       "      <td>...</td>\n",
       "      <td>NaN</td>\n",
       "      <td>2020-01-26 17:02:45</td>\n",
       "      <td>Performance of CNN based deep models with numb...</td>\n",
       "      <td>&lt;deep-learning&gt;&lt;convnet&gt;&lt;image-classification&gt;</td>\n",
       "      <td>1</td>\n",
       "      <td>0</td>\n",
       "      <td>1.0</td>\n",
       "      <td>NaN</td>\n",
       "      <td>NaN</td>\n",
       "      <td>CC BY-SA 4.0</td>\n",
       "    </tr>\n",
       "    <tr>\n",
       "      <th>2</th>\n",
       "      <td>43367</td>\n",
       "      <td>1</td>\n",
       "      <td>NaN</td>\n",
       "      <td>NaN</td>\n",
       "      <td>2019-01-01 06:16:26</td>\n",
       "      <td>NaN</td>\n",
       "      <td>0</td>\n",
       "      <td>24</td>\n",
       "      <td>&lt;p&gt;Sorry if the title is a bit long, but basic...</td>\n",
       "      <td>65158.0</td>\n",
       "      <td>...</td>\n",
       "      <td>NaN</td>\n",
       "      <td>2020-09-26 08:02:00</td>\n",
       "      <td>Restricting a weight vector (optimization para...</td>\n",
       "      <td>&lt;scikit-learn&gt;&lt;tensorflow&gt;&lt;scipy&gt;</td>\n",
       "      <td>1</td>\n",
       "      <td>0</td>\n",
       "      <td>NaN</td>\n",
       "      <td>NaN</td>\n",
       "      <td>NaN</td>\n",
       "      <td>CC BY-SA 4.0</td>\n",
       "    </tr>\n",
       "    <tr>\n",
       "      <th>3</th>\n",
       "      <td>43370</td>\n",
       "      <td>1</td>\n",
       "      <td>NaN</td>\n",
       "      <td>NaN</td>\n",
       "      <td>2019-01-01 10:06:03</td>\n",
       "      <td>NaN</td>\n",
       "      <td>2</td>\n",
       "      <td>37</td>\n",
       "      <td>&lt;p&gt;I have been building a model, can someone p...</td>\n",
       "      <td>65162.0</td>\n",
       "      <td>...</td>\n",
       "      <td>2019-01-01 10:33:04</td>\n",
       "      <td>2019-01-01 10:33:04</td>\n",
       "      <td>Is anything missing from my model evaluation p...</td>\n",
       "      <td>&lt;classification&gt;</td>\n",
       "      <td>0</td>\n",
       "      <td>5</td>\n",
       "      <td>NaN</td>\n",
       "      <td>NaN</td>\n",
       "      <td>NaN</td>\n",
       "      <td>CC BY-SA 4.0</td>\n",
       "    </tr>\n",
       "    <tr>\n",
       "      <th>4</th>\n",
       "      <td>43374</td>\n",
       "      <td>1</td>\n",
       "      <td>NaN</td>\n",
       "      <td>NaN</td>\n",
       "      <td>2019-01-01 13:18:02</td>\n",
       "      <td>NaN</td>\n",
       "      <td>3</td>\n",
       "      <td>38</td>\n",
       "      <td>&lt;p&gt;I am using a CNN for multivariate time seri...</td>\n",
       "      <td>6571.0</td>\n",
       "      <td>...</td>\n",
       "      <td>2019-06-01 11:47:15</td>\n",
       "      <td>2020-06-25 14:07:35</td>\n",
       "      <td>Adding more emphasis on most recent data in CNNs</td>\n",
       "      <td>&lt;deep-learning&gt;&lt;time-series&gt;&lt;cnn&gt;&lt;convolution&gt;</td>\n",
       "      <td>1</td>\n",
       "      <td>0</td>\n",
       "      <td>NaN</td>\n",
       "      <td>NaN</td>\n",
       "      <td>NaN</td>\n",
       "      <td>CC BY-SA 4.0</td>\n",
       "    </tr>\n",
       "    <tr>\n",
       "      <th>...</th>\n",
       "      <td>...</td>\n",
       "      <td>...</td>\n",
       "      <td>...</td>\n",
       "      <td>...</td>\n",
       "      <td>...</td>\n",
       "      <td>...</td>\n",
       "      <td>...</td>\n",
       "      <td>...</td>\n",
       "      <td>...</td>\n",
       "      <td>...</td>\n",
       "      <td>...</td>\n",
       "      <td>...</td>\n",
       "      <td>...</td>\n",
       "      <td>...</td>\n",
       "      <td>...</td>\n",
       "      <td>...</td>\n",
       "      <td>...</td>\n",
       "      <td>...</td>\n",
       "      <td>...</td>\n",
       "      <td>...</td>\n",
       "      <td>...</td>\n",
       "    </tr>\n",
       "    <tr>\n",
       "      <th>14056</th>\n",
       "      <td>85428</td>\n",
       "      <td>1</td>\n",
       "      <td>NaN</td>\n",
       "      <td>NaN</td>\n",
       "      <td>2020-11-14 20:54:14</td>\n",
       "      <td>NaN</td>\n",
       "      <td>-1</td>\n",
       "      <td>13</td>\n",
       "      <td>&lt;p&gt;After training my model, I realized that it...</td>\n",
       "      <td>107466.0</td>\n",
       "      <td>...</td>\n",
       "      <td>2020-11-14 22:46:58</td>\n",
       "      <td>2020-11-14 22:46:58</td>\n",
       "      <td>how can I prevent my model from overfitting?</td>\n",
       "      <td>&lt;python&gt;&lt;deep-learning&gt;&lt;keras&gt;&lt;cnn&gt;&lt;image-prep...</td>\n",
       "      <td>1</td>\n",
       "      <td>0</td>\n",
       "      <td>NaN</td>\n",
       "      <td>NaN</td>\n",
       "      <td>NaN</td>\n",
       "      <td>CC BY-SA 4.0</td>\n",
       "    </tr>\n",
       "    <tr>\n",
       "      <th>14057</th>\n",
       "      <td>85432</td>\n",
       "      <td>1</td>\n",
       "      <td>NaN</td>\n",
       "      <td>NaN</td>\n",
       "      <td>2020-11-14 22:26:56</td>\n",
       "      <td>NaN</td>\n",
       "      <td>-1</td>\n",
       "      <td>13</td>\n",
       "      <td>&lt;p&gt;I want to enter in Data Science. I am still...</td>\n",
       "      <td>107468.0</td>\n",
       "      <td>...</td>\n",
       "      <td>NaN</td>\n",
       "      <td>2020-11-14 22:26:56</td>\n",
       "      <td>To enter in data science</td>\n",
       "      <td>&lt;python&gt;</td>\n",
       "      <td>0</td>\n",
       "      <td>2</td>\n",
       "      <td>NaN</td>\n",
       "      <td>NaN</td>\n",
       "      <td>NaN</td>\n",
       "      <td>CC BY-SA 4.0</td>\n",
       "    </tr>\n",
       "    <tr>\n",
       "      <th>14058</th>\n",
       "      <td>85433</td>\n",
       "      <td>1</td>\n",
       "      <td>NaN</td>\n",
       "      <td>NaN</td>\n",
       "      <td>2020-11-14 22:29:19</td>\n",
       "      <td>NaN</td>\n",
       "      <td>0</td>\n",
       "      <td>4</td>\n",
       "      <td>&lt;p&gt;Why do we use gradient descent on very non-...</td>\n",
       "      <td>107470.0</td>\n",
       "      <td>...</td>\n",
       "      <td>NaN</td>\n",
       "      <td>2020-11-14 22:29:19</td>\n",
       "      <td>Why use gradient descent on Deep Nets / RNNs w...</td>\n",
       "      <td>&lt;neural-network&gt;&lt;rnn&gt;&lt;gradient-descent&gt;&lt;optimi...</td>\n",
       "      <td>0</td>\n",
       "      <td>0</td>\n",
       "      <td>NaN</td>\n",
       "      <td>NaN</td>\n",
       "      <td>NaN</td>\n",
       "      <td>CC BY-SA 4.0</td>\n",
       "    </tr>\n",
       "    <tr>\n",
       "      <th>14059</th>\n",
       "      <td>85435</td>\n",
       "      <td>1</td>\n",
       "      <td>NaN</td>\n",
       "      <td>NaN</td>\n",
       "      <td>2020-11-15 00:17:00</td>\n",
       "      <td>NaN</td>\n",
       "      <td>0</td>\n",
       "      <td>5</td>\n",
       "      <td>&lt;p&gt;I have a multi-class classification problem...</td>\n",
       "      <td>74397.0</td>\n",
       "      <td>...</td>\n",
       "      <td>NaN</td>\n",
       "      <td>2020-11-15 00:17:00</td>\n",
       "      <td>What is the appropriate statistical significan...</td>\n",
       "      <td>&lt;statistics&gt;&lt;multiclass-classification&gt;</td>\n",
       "      <td>0</td>\n",
       "      <td>0</td>\n",
       "      <td>NaN</td>\n",
       "      <td>NaN</td>\n",
       "      <td>NaN</td>\n",
       "      <td>CC BY-SA 4.0</td>\n",
       "    </tr>\n",
       "    <tr>\n",
       "      <th>14060</th>\n",
       "      <td>85437</td>\n",
       "      <td>1</td>\n",
       "      <td>NaN</td>\n",
       "      <td>NaN</td>\n",
       "      <td>2020-11-15 02:45:16</td>\n",
       "      <td>NaN</td>\n",
       "      <td>0</td>\n",
       "      <td>4</td>\n",
       "      <td>&lt;p&gt;I need to perform a multi-label classificat...</td>\n",
       "      <td>107473.0</td>\n",
       "      <td>...</td>\n",
       "      <td>NaN</td>\n",
       "      <td>2020-11-15 02:45:16</td>\n",
       "      <td>Multi-label classification with nested features</td>\n",
       "      <td>&lt;neural-network&gt;&lt;multilabel-classification&gt;</td>\n",
       "      <td>0</td>\n",
       "      <td>0</td>\n",
       "      <td>NaN</td>\n",
       "      <td>NaN</td>\n",
       "      <td>NaN</td>\n",
       "      <td>CC BY-SA 4.0</td>\n",
       "    </tr>\n",
       "  </tbody>\n",
       "</table>\n",
       "<p>14061 rows × 23 columns</p>\n",
       "</div>"
      ],
      "text/plain": [
       "          Id  PostTypeId  AcceptedAnswerId  ParentId         CreationDate  \\\n",
       "0      43363           1               NaN       NaN  2019-01-01 03:53:02   \n",
       "1      43366           1               NaN       NaN  2019-01-01 06:02:07   \n",
       "2      43367           1               NaN       NaN  2019-01-01 06:16:26   \n",
       "3      43370           1               NaN       NaN  2019-01-01 10:06:03   \n",
       "4      43374           1               NaN       NaN  2019-01-01 13:18:02   \n",
       "...      ...         ...               ...       ...                  ...   \n",
       "14056  85428           1               NaN       NaN  2020-11-14 20:54:14   \n",
       "14057  85432           1               NaN       NaN  2020-11-14 22:26:56   \n",
       "14058  85433           1               NaN       NaN  2020-11-14 22:29:19   \n",
       "14059  85435           1               NaN       NaN  2020-11-15 00:17:00   \n",
       "14060  85437           1               NaN       NaN  2020-11-15 02:45:16   \n",
       "\n",
       "       DeletionDate  Score  ViewCount  \\\n",
       "0               NaN      0         36   \n",
       "1               NaN      3         55   \n",
       "2               NaN      0         24   \n",
       "3               NaN      2         37   \n",
       "4               NaN      3         38   \n",
       "...             ...    ...        ...   \n",
       "14056           NaN     -1         13   \n",
       "14057           NaN     -1         13   \n",
       "14058           NaN      0          4   \n",
       "14059           NaN      0          5   \n",
       "14060           NaN      0          4   \n",
       "\n",
       "                                                    Body  OwnerUserId  ...  \\\n",
       "0      <p>I'm working on project that involves readin...      62929.0  ...   \n",
       "1      <p>How does a given deep cnn model performance...      65157.0  ...   \n",
       "2      <p>Sorry if the title is a bit long, but basic...      65158.0  ...   \n",
       "3      <p>I have been building a model, can someone p...      65162.0  ...   \n",
       "4      <p>I am using a CNN for multivariate time seri...       6571.0  ...   \n",
       "...                                                  ...          ...  ...   \n",
       "14056  <p>After training my model, I realized that it...     107466.0  ...   \n",
       "14057  <p>I want to enter in Data Science. I am still...     107468.0  ...   \n",
       "14058  <p>Why do we use gradient descent on very non-...     107470.0  ...   \n",
       "14059  <p>I have a multi-class classification problem...      74397.0  ...   \n",
       "14060  <p>I need to perform a multi-label classificat...     107473.0  ...   \n",
       "\n",
       "              LastEditDate     LastActivityDate  \\\n",
       "0                      NaN  2020-06-03 18:03:45   \n",
       "1                      NaN  2020-01-26 17:02:45   \n",
       "2                      NaN  2020-09-26 08:02:00   \n",
       "3      2019-01-01 10:33:04  2019-01-01 10:33:04   \n",
       "4      2019-06-01 11:47:15  2020-06-25 14:07:35   \n",
       "...                    ...                  ...   \n",
       "14056  2020-11-14 22:46:58  2020-11-14 22:46:58   \n",
       "14057                  NaN  2020-11-14 22:26:56   \n",
       "14058                  NaN  2020-11-14 22:29:19   \n",
       "14059                  NaN  2020-11-15 00:17:00   \n",
       "14060                  NaN  2020-11-15 02:45:16   \n",
       "\n",
       "                                                   Title  \\\n",
       "0      How to detect when the \"bibliography\" of a pap...   \n",
       "1      Performance of CNN based deep models with numb...   \n",
       "2      Restricting a weight vector (optimization para...   \n",
       "3      Is anything missing from my model evaluation p...   \n",
       "4       Adding more emphasis on most recent data in CNNs   \n",
       "...                                                  ...   \n",
       "14056       how can I prevent my model from overfitting?   \n",
       "14057                           To enter in data science   \n",
       "14058  Why use gradient descent on Deep Nets / RNNs w...   \n",
       "14059  What is the appropriate statistical significan...   \n",
       "14060    Multi-label classification with nested features   \n",
       "\n",
       "                                                    Tags AnswerCount  \\\n",
       "0                                <machine-learning><nlp>           1   \n",
       "1         <deep-learning><convnet><image-classification>           1   \n",
       "2                      <scikit-learn><tensorflow><scipy>           1   \n",
       "3                                       <classification>           0   \n",
       "4         <deep-learning><time-series><cnn><convolution>           1   \n",
       "...                                                  ...         ...   \n",
       "14056  <python><deep-learning><keras><cnn><image-prep...           1   \n",
       "14057                                           <python>           0   \n",
       "14058  <neural-network><rnn><gradient-descent><optimi...           0   \n",
       "14059            <statistics><multiclass-classification>           0   \n",
       "14060        <neural-network><multilabel-classification>           0   \n",
       "\n",
       "      CommentCount FavoriteCount  ClosedDate  CommunityOwnedDate  \\\n",
       "0                0           NaN         NaN                 NaN   \n",
       "1                0           1.0         NaN                 NaN   \n",
       "2                0           NaN         NaN                 NaN   \n",
       "3                5           NaN         NaN                 NaN   \n",
       "4                0           NaN         NaN                 NaN   \n",
       "...            ...           ...         ...                 ...   \n",
       "14056            0           NaN         NaN                 NaN   \n",
       "14057            2           NaN         NaN                 NaN   \n",
       "14058            0           NaN         NaN                 NaN   \n",
       "14059            0           NaN         NaN                 NaN   \n",
       "14060            0           NaN         NaN                 NaN   \n",
       "\n",
       "       ContentLicense  \n",
       "0        CC BY-SA 4.0  \n",
       "1        CC BY-SA 4.0  \n",
       "2        CC BY-SA 4.0  \n",
       "3        CC BY-SA 4.0  \n",
       "4        CC BY-SA 4.0  \n",
       "...               ...  \n",
       "14056    CC BY-SA 4.0  \n",
       "14057    CC BY-SA 4.0  \n",
       "14058    CC BY-SA 4.0  \n",
       "14059    CC BY-SA 4.0  \n",
       "14060    CC BY-SA 4.0  \n",
       "\n",
       "[14061 rows x 23 columns]"
      ]
     },
     "execution_count": 4,
     "metadata": {},
     "output_type": "execute_result"
    }
   ],
   "source": [
    "# reading data\n",
    "questions = pd.read_csv(\"data-master/datascience-stackexchange/2020-2019-questions.csv\")\n",
    "\n",
    "print(questions.info())\n",
    "questions\n"
   ]
  },
  {
   "cell_type": "markdown",
   "metadata": {},
   "source": [
    "\n"
   ]
  },
  {
   "cell_type": "markdown",
   "metadata": {},
   "source": [
    "Make sure that all posts are questions"
   ]
  },
  {
   "cell_type": "code",
   "execution_count": 5,
   "metadata": {},
   "outputs": [
    {
     "name": "stdout",
     "output_type": "stream",
     "text": [
      "Number of posts that aren't questions is: 0\n"
     ]
    }
   ],
   "source": [
    "print(\"Number of posts that aren't questions is: {}\".format(len(questions[questions[\"PostTypeId\"] != 1].index)))"
   ]
  },
  {
   "cell_type": "markdown",
   "metadata": {},
   "source": [
    "Looks like there are NaN values in _FavoriteCount_"
   ]
  },
  {
   "cell_type": "code",
   "execution_count": 6,
   "metadata": {},
   "outputs": [
    {
     "data": {
      "text/plain": [
       "NaN     11702\n",
       "1.0      1607\n",
       "2.0       330\n",
       "0.0       242\n",
       "3.0        84\n",
       "4.0        43\n",
       "6.0        19\n",
       "5.0        14\n",
       "8.0         7\n",
       "7.0         3\n",
       "10.0        3\n",
       "13.0        2\n",
       "12.0        1\n",
       "16.0        1\n",
       "17.0        1\n",
       "9.0         1\n",
       "11.0        1\n",
       "Name: FavoriteCount, dtype: int64"
      ]
     },
     "execution_count": 6,
     "metadata": {},
     "output_type": "execute_result"
    }
   ],
   "source": [
    "questions[\"FavoriteCount\"].value_counts(dropna=False)"
   ]
  },
  {
   "cell_type": "markdown",
   "metadata": {},
   "source": [
    "Let's fill them with zeroes as it makes a good proxy."
   ]
  },
  {
   "cell_type": "code",
   "execution_count": 7,
   "metadata": {},
   "outputs": [],
   "source": [
    "questions[\"FavoriteCount\"].fillna(0, inplace=True)"
   ]
  },
  {
   "cell_type": "code",
   "execution_count": 8,
   "metadata": {},
   "outputs": [
    {
     "data": {
      "text/plain": [
       "0.0     11944\n",
       "1.0      1607\n",
       "2.0       330\n",
       "3.0        84\n",
       "4.0        43\n",
       "6.0        19\n",
       "5.0        14\n",
       "8.0         7\n",
       "10.0        3\n",
       "7.0         3\n",
       "13.0        2\n",
       "11.0        1\n",
       "9.0         1\n",
       "17.0        1\n",
       "16.0        1\n",
       "12.0        1\n",
       "Name: FavoriteCount, dtype: int64"
      ]
     },
     "execution_count": 8,
     "metadata": {},
     "output_type": "execute_result"
    }
   ],
   "source": [
    "questions[\"FavoriteCount\"].value_counts(dropna=False)"
   ]
  },
  {
   "cell_type": "markdown",
   "metadata": {},
   "source": [
    "Let's check now the other attributes"
   ]
  },
  {
   "cell_type": "code",
   "execution_count": 9,
   "metadata": {},
   "outputs": [
    {
     "data": {
      "text/plain": [
       " 0     5489\n",
       " 1     4680\n",
       " 2     1952\n",
       " 3      819\n",
       " 4      348\n",
       "-1      288\n",
       " 5      159\n",
       " 6       94\n",
       " 7       51\n",
       " 8       36\n",
       "-2       33\n",
       " 9       22\n",
       " 10      18\n",
       "-3       16\n",
       " 13      10\n",
       " 11       9\n",
       " 14       8\n",
       " 12       7\n",
       "-4        4\n",
       " 26       3\n",
       " 20       2\n",
       " 25       2\n",
       " 16       2\n",
       " 35       1\n",
       " 18       1\n",
       " 21       1\n",
       " 33       1\n",
       " 17       1\n",
       " 37       1\n",
       " 45       1\n",
       " 22       1\n",
       " 15       1\n",
       "Name: Score, dtype: int64"
      ]
     },
     "execution_count": 9,
     "metadata": {},
     "output_type": "execute_result"
    }
   ],
   "source": [
    "questions[\"Score\"].value_counts(dropna=False)"
   ]
  },
  {
   "cell_type": "markdown",
   "metadata": {},
   "source": [
    "There are a lot of different values for *ViewCount*"
   ]
  },
  {
   "cell_type": "code",
   "execution_count": 10,
   "metadata": {},
   "outputs": [
    {
     "data": {
      "text/plain": [
       "18      259\n",
       "24      254\n",
       "19      237\n",
       "22      234\n",
       "23      227\n",
       "       ... \n",
       "5046      1\n",
       "964       1\n",
       "996       1\n",
       "1004      1\n",
       "2109      1\n",
       "Name: ViewCount, Length: 1649, dtype: int64"
      ]
     },
     "execution_count": 10,
     "metadata": {},
     "output_type": "execute_result"
    }
   ],
   "source": [
    "questions[\"ViewCount\"].value_counts(dropna=False)"
   ]
  },
  {
   "cell_type": "markdown",
   "metadata": {},
   "source": [
    "Fortunately there a no rows with a NaN ViewCount value"
   ]
  },
  {
   "cell_type": "code",
   "execution_count": 11,
   "metadata": {},
   "outputs": [
    {
     "name": "stdout",
     "output_type": "stream",
     "text": [
      "Number of questions without views is: 0\n"
     ]
    }
   ],
   "source": [
    "print(\"Number of questions without views is: {}\".format(len(questions[questions[\"ViewCount\"] == None].index)))"
   ]
  },
  {
   "cell_type": "code",
   "execution_count": 12,
   "metadata": {},
   "outputs": [
    {
     "data": {
      "text/plain": [
       "1     6769\n",
       "0     4696\n",
       "2     1992\n",
       "3      447\n",
       "4      111\n",
       "5       29\n",
       "7        7\n",
       "6        7\n",
       "10       1\n",
       "9        1\n",
       "8        1\n",
       "Name: AnswerCount, dtype: int64"
      ]
     },
     "execution_count": 12,
     "metadata": {},
     "output_type": "execute_result"
    }
   ],
   "source": [
    "questions[\"AnswerCount\"].value_counts(dropna=False)"
   ]
  },
  {
   "cell_type": "markdown",
   "metadata": {},
   "source": [
    "# Processing tags\n",
    "As seen the tags have as constant pattern which makes it easy to process them.\n",
    "\n",
    "First we'll format them to comma separated values."
   ]
  },
  {
   "cell_type": "code",
   "execution_count": 13,
   "metadata": {},
   "outputs": [
    {
     "data": {
      "text/plain": [
       "0                           <machine-learning><nlp>\n",
       "1    <deep-learning><convnet><image-classification>\n",
       "2                 <scikit-learn><tensorflow><scipy>\n",
       "3                                  <classification>\n",
       "4    <deep-learning><time-series><cnn><convolution>\n",
       "Name: Tags, dtype: object"
      ]
     },
     "execution_count": 13,
     "metadata": {},
     "output_type": "execute_result"
    }
   ],
   "source": [
    "questions[\"Tags\"].head()"
   ]
  },
  {
   "cell_type": "code",
   "execution_count": 14,
   "metadata": {},
   "outputs": [],
   "source": [
    "questions[\"OldTags\"] = questions[\"Tags\"]"
   ]
  },
  {
   "cell_type": "code",
   "execution_count": 15,
   "metadata": {},
   "outputs": [
    {
     "data": {
      "text/plain": [
       "0                           [machine-learning, nlp]\n",
       "1    [deep-learning, convnet, image-classification]\n",
       "2                 [scikit-learn, tensorflow, scipy]\n",
       "3                                  [classification]\n",
       "4    [deep-learning, time-series, cnn, convolution]\n",
       "Name: Tags, dtype: object"
      ]
     },
     "execution_count": 15,
     "metadata": {},
     "output_type": "execute_result"
    }
   ],
   "source": [
    "questions[\"Tags\"] = questions[\"OldTags\"].str.replace(\"><\", \",\").str.replace(\"<|>\", \"\").str.split(',')\n",
    "questions[\"Tags\"].head()"
   ]
  },
  {
   "cell_type": "markdown",
   "metadata": {},
   "source": [
    "Now that we have cleaned the tags let's find out how many times the tags were viewed."
   ]
  },
  {
   "cell_type": "code",
   "execution_count": 16,
   "metadata": {},
   "outputs": [],
   "source": [
    "tags_count = {\n",
    "    \n",
    "}\n",
    "\n",
    "for index, question in questions.iterrows():\n",
    "    for tag_name in question[\"Tags\"]:\n",
    "        if tag_name in tags_count: \n",
    "            tags_count[tag_name] += question[\"ViewCount\"]\n",
    "        else: \n",
    "            tags_count[tag_name] = question[\"ViewCount\"]\n",
    "            \n",
    "tags[\"ViewCount\"] = tags[\"TagName\"].apply(lambda tag_name:  tags_count[tag_name])"
   ]
  },
  {
   "cell_type": "markdown",
   "metadata": {},
   "source": [
    "Now tha we have calculated the views for each tag we will have to check the top 10 tags and boy would it be nice that the top viewed 10 and top 10 posted are the same!"
   ]
  },
  {
   "cell_type": "code",
   "execution_count": 17,
   "metadata": {},
   "outputs": [
    {
     "name": "stdout",
     "output_type": "stream",
     "text": [
      "Top posts tags\n",
      "    id           TagName  numPosts  ViewCount\n",
      "0    2  machine-learning      4231    1195463\n",
      "1   46            python      2842    1748039\n",
      "2  194     deep-learning      1928     664294\n",
      "3   81    neural-network      1653     554442\n",
      "4  324             keras      1380     791543\n",
      "5   77    classification      1174     327949\n",
      "6  321        tensorflow       967     408137\n",
      "7  128      scikit-learn       910     430903\n",
      "8   47               nlp       867     252568\n",
      "9  557               cnn       729     232480\n",
      "----------------------------------------------\n",
      "Top viewed tags\n",
      "     id           TagName  numPosts  ViewCount\n",
      "1    46            python      2842    1748039\n",
      "0     2  machine-learning      4231    1195463\n",
      "4   324             keras      1380     791543\n",
      "13   64            pandas       581     783682\n",
      "2   194     deep-learning      1928     664294\n",
      "3    81    neural-network      1653     554442\n",
      "7   128      scikit-learn       910     430903\n",
      "6   321        tensorflow       967     408137\n",
      "5    77    classification      1174     327949\n",
      "58  521         dataframe       154     297092\n"
     ]
    }
   ],
   "source": [
    "top_viewed_tags = tags.sort_values(\"ViewCount\", ascending=False).head(10)\n",
    "top_posted_tags = tags.sort_values(\"numPosts\", ascending=False).head(10)\n",
    "print(\"Top posts tags\")\n",
    "print(top_posted_tags)\n",
    "print(\"----------------------------------------------\")\n",
    "print(\"Top viewed tags\")\n",
    "print(top_viewed_tags)\n"
   ]
  },
  {
   "cell_type": "markdown",
   "metadata": {},
   "source": [
    "Unfortunately is not an exact match so we'll make a separate analysis for both number of posts and views and try to merge these two afterwards."
   ]
  },
  {
   "cell_type": "code",
   "execution_count": 18,
   "metadata": {},
   "outputs": [],
   "source": [
    "def plot_tags(df, column, title):\n",
    "    fig, ax = plt.subplots(figsize=(10, 4))\n",
    "    \n",
    "    labels = df[\"TagName\"]\n",
    "    values = df[column]\n",
    "    ax.bar(labels, values, color=\"#b2abd2\")\n",
    "\n",
    "    mean = values.mean()\n",
    "    mean_line = ax.axhline(mean, color=\"#5e3c99\", linestyle=\"--\" )\n",
    "    \n",
    "    median = values.median()\n",
    "    median_line = ax.axhline(median, color=\"#e66101\", linestyle=\"--\" )\n",
    "\n",
    "    ax.legend((mean_line, median_line), (\"mean\", \"median\"))\n",
    "\n",
    "    ax.set_xlabel(\"TagName\")\n",
    "    ax.set_ylabel(column)\n",
    "    ax.set_title(title)\n",
    "    ax.tick_params(axis=\"x\", rotation=55)\n",
    "\n",
    "    plt.show()"
   ]
  },
  {
   "cell_type": "code",
   "execution_count": 19,
   "metadata": {},
   "outputs": [
    {
     "data": {
      "image/png": "[encoded data removed]",
      "text/plain": [
       "<Figure size 720x288 with 1 Axes>"
      ]
     },
     "metadata": {
      "needs_background": "light"
     },
     "output_type": "display_data"
    }
   ],
   "source": [
    "plot_tags(top_posted_tags, \"numPosts\", \"Number of posts x Tag\" )"
   ]
  },
  {
   "cell_type": "markdown",
   "metadata": {},
   "source": [
    "The number of posts are heaviliy skewed by *machine-learning* and *python* which are very popular in terms of questions asked. The notable distance between mean and median confirms that the heavy interest in those two tags has a heavy impact on the popularity distribution."
   ]
  },
  {
   "cell_type": "code",
   "execution_count": 20,
   "metadata": {},
   "outputs": [
    {
     "data": {
      "image/png": "[encoded data removed]",
      "text/plain": [
       "<Figure size 720x288 with 1 Axes>"
      ]
     },
     "metadata": {
      "needs_background": "light"
     },
     "output_type": "display_data"
    }
   ],
   "source": [
    "plot_tags(top_posted_tags.tail(8), \"numPosts\", \"(8) Number of posts x Tag\" )"
   ]
  },
  {
   "cell_type": "markdown",
   "metadata": {},
   "source": [
    "Reviewing the plot without the first two values we can see a more equally distributed series of values. The distance between mean and median shortens a lot."
   ]
  },
  {
   "cell_type": "code",
   "execution_count": 21,
   "metadata": {},
   "outputs": [
    {
     "data": {
      "image/png": "[encoded data removed]",
      "text/plain": [
       "<Figure size 720x288 with 1 Axes>"
      ]
     },
     "metadata": {
      "needs_background": "light"
     },
     "output_type": "display_data"
    }
   ],
   "source": [
    "plot_tags(top_viewed_tags, \"ViewCount\", \"Number of Views x Tag\" )"
   ]
  },
  {
   "cell_type": "markdown",
   "metadata": {},
   "source": [
    "As seen in the *Number of posts x Tag* both *python* and *machine-learning* are at the top of the public interest in a very impressive way."
   ]
  },
  {
   "cell_type": "code",
   "execution_count": 22,
   "metadata": {},
   "outputs": [
    {
     "data": {
      "image/png": "[encoded data removed]",
      "text/plain": [
       "<Figure size 720x288 with 1 Axes>"
      ]
     },
     "metadata": {
      "needs_background": "light"
     },
     "output_type": "display_data"
    }
   ],
   "source": [
    "plot_tags(top_viewed_tags.tail(8), \"ViewCount\", \"(8) Number of Views x Tag\" )"
   ]
  },
  {
   "cell_type": "markdown",
   "metadata": {},
   "source": [
    "Following the example we can see that the remaining 8 tags have a more equitative distrbution."
   ]
  },
  {
   "cell_type": "code",
   "execution_count": 23,
   "metadata": {},
   "outputs": [
    {
     "data": {
      "text/plain": [
       "Text(0.5, 1.0, 'Tags numPosts x ViewCount')"
      ]
     },
     "execution_count": 23,
     "metadata": {},
     "output_type": "execute_result"
    },
    {
     "data": {
      "image/png": "[encoded data removed]",
      "text/plain": [
       "<Figure size 576x432 with 1 Axes>"
      ]
     },
     "metadata": {
      "needs_background": "light"
     },
     "output_type": "display_data"
    }
   ],
   "source": [
    "fig, ax = plt.subplots(figsize=(8, 6))\n",
    "\n",
    "ax.scatter(tags[\"numPosts\"], tags[\"ViewCount\"])\n",
    "\n",
    "ax.set_xlabel(\"numPosts\")\n",
    "ax.set_ylabel(\"ViewCount\")\n",
    "ax.set_title(\"Tags numPosts x ViewCount\")"
   ]
  },
  {
   "cell_type": "markdown",
   "metadata": {},
   "source": [
    "Overall we can see a predictable positive correlation between number of posts and number of views."
   ]
  },
  {
   "cell_type": "code",
   "execution_count": 71,
   "metadata": {},
   "outputs": [],
   "source": [
    "def plot_corr(corr_matrix, title, figsize=(8, 6)):\n",
    "    fig, ax = plt.subplots(figsize=figsize)\n",
    "    ax.imshow(corr_matrix, cmap=\"PRGn\")\n",
    "\n",
    "    ax.set_xticks(np.arange(len(corr_matrix.columns)))\n",
    "    ax.set_yticks(np.arange(len(corr_matrix.index)))\n",
    "    ax.set_xticklabels(corr_matrix.columns)\n",
    "    ax.set_yticklabels(corr_matrix.index)\n",
    "    ax.set_title(title)\n",
    "    \n",
    "    # Rotate the tick labels and set their alignment.\n",
    "    plt.setp(ax.get_xticklabels(), rotation=45, ha=\"right\",\n",
    "         rotation_mode=\"anchor\")\n",
    "    \n",
    "    for i in range(corr_matrix.shape[0]):\n",
    "        for j in range(corr_matrix.shape[1]):\n",
    "            corr_value = corr_matrix.iloc[i,j]\n",
    "            ax.text(i, j, round(corr_value, 2), ha=\"center\", va=\"center\", color=\"w\")"
   ]
  },
  {
   "cell_type": "code",
   "execution_count": 72,
   "metadata": {},
   "outputs": [
    {
     "data": {
      "image/png": "[encoded data removed]",
      "text/plain": [
       "<Figure size 576x432 with 1 Axes>"
      ]
     },
     "metadata": {
      "needs_background": "light"
     },
     "output_type": "display_data"
    }
   ],
   "source": [
    "tags_corr = tags[[\"numPosts\", \"ViewCount\"]].corr()\n",
    "plot_corr(tags_corr, \"Correlation of numPosts and ViewCount\")"
   ]
  },
  {
   "cell_type": "markdown",
   "metadata": {},
   "source": [
    "## Tags correlation\n",
    "Now that we have found the most posted and viewed tags let's search for correlations between tags."
   ]
  },
  {
   "cell_type": "code",
   "execution_count": 45,
   "metadata": {},
   "outputs": [
    {
     "data": {
      "text/html": [
       "<div>\n",
       "<style scoped>\n",
       "    .dataframe tbody tr th:only-of-type {\n",
       "        vertical-align: middle;\n",
       "    }\n",
       "\n",
       "    .dataframe tbody tr th {\n",
       "        vertical-align: top;\n",
       "    }\n",
       "\n",
       "    .dataframe thead th {\n",
       "        text-align: right;\n",
       "    }\n",
       "</style>\n",
       "<table border=\"1\" class=\"dataframe\">\n",
       "  <thead>\n",
       "    <tr style=\"text-align: right;\">\n",
       "      <th></th>\n",
       "      <th>id</th>\n",
       "      <th>TagName</th>\n",
       "      <th>numPosts</th>\n",
       "      <th>ViewCount</th>\n",
       "    </tr>\n",
       "  </thead>\n",
       "  <tbody>\n",
       "    <tr>\n",
       "      <th>0</th>\n",
       "      <td>2</td>\n",
       "      <td>machine-learning</td>\n",
       "      <td>4231</td>\n",
       "      <td>1195463</td>\n",
       "    </tr>\n",
       "    <tr>\n",
       "      <th>1</th>\n",
       "      <td>46</td>\n",
       "      <td>python</td>\n",
       "      <td>2842</td>\n",
       "      <td>1748039</td>\n",
       "    </tr>\n",
       "    <tr>\n",
       "      <th>2</th>\n",
       "      <td>194</td>\n",
       "      <td>deep-learning</td>\n",
       "      <td>1928</td>\n",
       "      <td>664294</td>\n",
       "    </tr>\n",
       "    <tr>\n",
       "      <th>3</th>\n",
       "      <td>81</td>\n",
       "      <td>neural-network</td>\n",
       "      <td>1653</td>\n",
       "      <td>554442</td>\n",
       "    </tr>\n",
       "    <tr>\n",
       "      <th>4</th>\n",
       "      <td>324</td>\n",
       "      <td>keras</td>\n",
       "      <td>1380</td>\n",
       "      <td>791543</td>\n",
       "    </tr>\n",
       "    <tr>\n",
       "      <th>5</th>\n",
       "      <td>77</td>\n",
       "      <td>classification</td>\n",
       "      <td>1174</td>\n",
       "      <td>327949</td>\n",
       "    </tr>\n",
       "    <tr>\n",
       "      <th>6</th>\n",
       "      <td>321</td>\n",
       "      <td>tensorflow</td>\n",
       "      <td>967</td>\n",
       "      <td>408137</td>\n",
       "    </tr>\n",
       "    <tr>\n",
       "      <th>7</th>\n",
       "      <td>128</td>\n",
       "      <td>scikit-learn</td>\n",
       "      <td>910</td>\n",
       "      <td>430903</td>\n",
       "    </tr>\n",
       "    <tr>\n",
       "      <th>8</th>\n",
       "      <td>47</td>\n",
       "      <td>nlp</td>\n",
       "      <td>867</td>\n",
       "      <td>252568</td>\n",
       "    </tr>\n",
       "    <tr>\n",
       "      <th>9</th>\n",
       "      <td>557</td>\n",
       "      <td>cnn</td>\n",
       "      <td>729</td>\n",
       "      <td>232480</td>\n",
       "    </tr>\n",
       "    <tr>\n",
       "      <th>10</th>\n",
       "      <td>64</td>\n",
       "      <td>pandas</td>\n",
       "      <td>581</td>\n",
       "      <td>783682</td>\n",
       "    </tr>\n",
       "    <tr>\n",
       "      <th>11</th>\n",
       "      <td>521</td>\n",
       "      <td>dataframe</td>\n",
       "      <td>154</td>\n",
       "      <td>297092</td>\n",
       "    </tr>\n",
       "  </tbody>\n",
       "</table>\n",
       "</div>"
      ],
      "text/plain": [
       "     id           TagName  numPosts  ViewCount\n",
       "0     2  machine-learning      4231    1195463\n",
       "1    46            python      2842    1748039\n",
       "2   194     deep-learning      1928     664294\n",
       "3    81    neural-network      1653     554442\n",
       "4   324             keras      1380     791543\n",
       "5    77    classification      1174     327949\n",
       "6   321        tensorflow       967     408137\n",
       "7   128      scikit-learn       910     430903\n",
       "8    47               nlp       867     252568\n",
       "9   557               cnn       729     232480\n",
       "10   64            pandas       581     783682\n",
       "11  521         dataframe       154     297092"
      ]
     },
     "execution_count": 45,
     "metadata": {},
     "output_type": "execute_result"
    }
   ],
   "source": [
    "top_tags = top_posted_tags.merge(top_viewed_tags, how=\"outer\", on=[\"id\", \"TagName\", \"numPosts\", \"ViewCount\"] ) \n",
    "\n",
    "top_tags"
   ]
  },
  {
   "cell_type": "markdown",
   "metadata": {},
   "source": [
    "Merge top views and posted tags to give a smaller scope to the analysis.\n",
    "\n",
    "Then add a each tag as a column in questions."
   ]
  },
  {
   "cell_type": "code",
   "execution_count": 27,
   "metadata": {},
   "outputs": [],
   "source": [
    "for tag_name in top_tags[\"TagName\"]:\n",
    "    questions[tag_name] = questions[\"Tags\"].apply(lambda tags: 1 if tag_name in tags else 0)"
   ]
  },
  {
   "cell_type": "markdown",
   "metadata": {},
   "source": [
    "Define questions columns of interest to perform numerical analysis."
   ]
  },
  {
   "cell_type": "code",
   "execution_count": 28,
   "metadata": {},
   "outputs": [],
   "source": [
    "tags_cols = top_tags[\"TagName\"].to_list()\n",
    "num_cols = [\"FavoriteCount\", \"ViewCount\",\"AnswerCount\", \"CommentCount\", \"Score\"]"
   ]
  },
  {
   "cell_type": "code",
   "execution_count": 46,
   "metadata": {},
   "outputs": [
    {
     "data": {
      "text/html": [
       "<div>\n",
       "<style scoped>\n",
       "    .dataframe tbody tr th:only-of-type {\n",
       "        vertical-align: middle;\n",
       "    }\n",
       "\n",
       "    .dataframe tbody tr th {\n",
       "        vertical-align: top;\n",
       "    }\n",
       "\n",
       "    .dataframe thead th {\n",
       "        text-align: right;\n",
       "    }\n",
       "</style>\n",
       "<table border=\"1\" class=\"dataframe\">\n",
       "  <thead>\n",
       "    <tr style=\"text-align: right;\">\n",
       "      <th></th>\n",
       "      <th>FavoriteCount</th>\n",
       "      <th>ViewCount</th>\n",
       "      <th>AnswerCount</th>\n",
       "      <th>CommentCount</th>\n",
       "      <th>Score</th>\n",
       "      <th>machine-learning</th>\n",
       "      <th>python</th>\n",
       "      <th>deep-learning</th>\n",
       "      <th>neural-network</th>\n",
       "      <th>keras</th>\n",
       "      <th>classification</th>\n",
       "      <th>tensorflow</th>\n",
       "      <th>scikit-learn</th>\n",
       "      <th>nlp</th>\n",
       "      <th>cnn</th>\n",
       "      <th>pandas</th>\n",
       "      <th>dataframe</th>\n",
       "    </tr>\n",
       "  </thead>\n",
       "  <tbody>\n",
       "    <tr>\n",
       "      <th>0</th>\n",
       "      <td>0.0</td>\n",
       "      <td>36</td>\n",
       "      <td>1</td>\n",
       "      <td>0</td>\n",
       "      <td>0</td>\n",
       "      <td>1</td>\n",
       "      <td>0</td>\n",
       "      <td>0</td>\n",
       "      <td>0</td>\n",
       "      <td>0</td>\n",
       "      <td>0</td>\n",
       "      <td>0</td>\n",
       "      <td>0</td>\n",
       "      <td>1</td>\n",
       "      <td>0</td>\n",
       "      <td>0</td>\n",
       "      <td>0</td>\n",
       "    </tr>\n",
       "    <tr>\n",
       "      <th>1</th>\n",
       "      <td>1.0</td>\n",
       "      <td>55</td>\n",
       "      <td>1</td>\n",
       "      <td>0</td>\n",
       "      <td>3</td>\n",
       "      <td>0</td>\n",
       "      <td>0</td>\n",
       "      <td>1</td>\n",
       "      <td>0</td>\n",
       "      <td>0</td>\n",
       "      <td>0</td>\n",
       "      <td>0</td>\n",
       "      <td>0</td>\n",
       "      <td>0</td>\n",
       "      <td>0</td>\n",
       "      <td>0</td>\n",
       "      <td>0</td>\n",
       "    </tr>\n",
       "    <tr>\n",
       "      <th>2</th>\n",
       "      <td>0.0</td>\n",
       "      <td>24</td>\n",
       "      <td>1</td>\n",
       "      <td>0</td>\n",
       "      <td>0</td>\n",
       "      <td>0</td>\n",
       "      <td>0</td>\n",
       "      <td>0</td>\n",
       "      <td>0</td>\n",
       "      <td>0</td>\n",
       "      <td>0</td>\n",
       "      <td>1</td>\n",
       "      <td>1</td>\n",
       "      <td>0</td>\n",
       "      <td>0</td>\n",
       "      <td>0</td>\n",
       "      <td>0</td>\n",
       "    </tr>\n",
       "    <tr>\n",
       "      <th>3</th>\n",
       "      <td>0.0</td>\n",
       "      <td>37</td>\n",
       "      <td>0</td>\n",
       "      <td>5</td>\n",
       "      <td>2</td>\n",
       "      <td>0</td>\n",
       "      <td>0</td>\n",
       "      <td>0</td>\n",
       "      <td>0</td>\n",
       "      <td>0</td>\n",
       "      <td>1</td>\n",
       "      <td>0</td>\n",
       "      <td>0</td>\n",
       "      <td>0</td>\n",
       "      <td>0</td>\n",
       "      <td>0</td>\n",
       "      <td>0</td>\n",
       "    </tr>\n",
       "    <tr>\n",
       "      <th>4</th>\n",
       "      <td>0.0</td>\n",
       "      <td>38</td>\n",
       "      <td>1</td>\n",
       "      <td>0</td>\n",
       "      <td>3</td>\n",
       "      <td>0</td>\n",
       "      <td>0</td>\n",
       "      <td>1</td>\n",
       "      <td>0</td>\n",
       "      <td>0</td>\n",
       "      <td>0</td>\n",
       "      <td>0</td>\n",
       "      <td>0</td>\n",
       "      <td>0</td>\n",
       "      <td>1</td>\n",
       "      <td>0</td>\n",
       "      <td>0</td>\n",
       "    </tr>\n",
       "    <tr>\n",
       "      <th>...</th>\n",
       "      <td>...</td>\n",
       "      <td>...</td>\n",
       "      <td>...</td>\n",
       "      <td>...</td>\n",
       "      <td>...</td>\n",
       "      <td>...</td>\n",
       "      <td>...</td>\n",
       "      <td>...</td>\n",
       "      <td>...</td>\n",
       "      <td>...</td>\n",
       "      <td>...</td>\n",
       "      <td>...</td>\n",
       "      <td>...</td>\n",
       "      <td>...</td>\n",
       "      <td>...</td>\n",
       "      <td>...</td>\n",
       "      <td>...</td>\n",
       "    </tr>\n",
       "    <tr>\n",
       "      <th>14056</th>\n",
       "      <td>0.0</td>\n",
       "      <td>13</td>\n",
       "      <td>1</td>\n",
       "      <td>0</td>\n",
       "      <td>-1</td>\n",
       "      <td>0</td>\n",
       "      <td>1</td>\n",
       "      <td>1</td>\n",
       "      <td>0</td>\n",
       "      <td>1</td>\n",
       "      <td>0</td>\n",
       "      <td>0</td>\n",
       "      <td>0</td>\n",
       "      <td>0</td>\n",
       "      <td>1</td>\n",
       "      <td>0</td>\n",
       "      <td>0</td>\n",
       "    </tr>\n",
       "    <tr>\n",
       "      <th>14057</th>\n",
       "      <td>0.0</td>\n",
       "      <td>13</td>\n",
       "      <td>0</td>\n",
       "      <td>2</td>\n",
       "      <td>-1</td>\n",
       "      <td>0</td>\n",
       "      <td>1</td>\n",
       "      <td>0</td>\n",
       "      <td>0</td>\n",
       "      <td>0</td>\n",
       "      <td>0</td>\n",
       "      <td>0</td>\n",
       "      <td>0</td>\n",
       "      <td>0</td>\n",
       "      <td>0</td>\n",
       "      <td>0</td>\n",
       "      <td>0</td>\n",
       "    </tr>\n",
       "    <tr>\n",
       "      <th>14058</th>\n",
       "      <td>0.0</td>\n",
       "      <td>4</td>\n",
       "      <td>0</td>\n",
       "      <td>0</td>\n",
       "      <td>0</td>\n",
       "      <td>0</td>\n",
       "      <td>0</td>\n",
       "      <td>0</td>\n",
       "      <td>1</td>\n",
       "      <td>0</td>\n",
       "      <td>0</td>\n",
       "      <td>0</td>\n",
       "      <td>0</td>\n",
       "      <td>0</td>\n",
       "      <td>0</td>\n",
       "      <td>0</td>\n",
       "      <td>0</td>\n",
       "    </tr>\n",
       "    <tr>\n",
       "      <th>14059</th>\n",
       "      <td>0.0</td>\n",
       "      <td>5</td>\n",
       "      <td>0</td>\n",
       "      <td>0</td>\n",
       "      <td>0</td>\n",
       "      <td>0</td>\n",
       "      <td>0</td>\n",
       "      <td>0</td>\n",
       "      <td>0</td>\n",
       "      <td>0</td>\n",
       "      <td>0</td>\n",
       "      <td>0</td>\n",
       "      <td>0</td>\n",
       "      <td>0</td>\n",
       "      <td>0</td>\n",
       "      <td>0</td>\n",
       "      <td>0</td>\n",
       "    </tr>\n",
       "    <tr>\n",
       "      <th>14060</th>\n",
       "      <td>0.0</td>\n",
       "      <td>4</td>\n",
       "      <td>0</td>\n",
       "      <td>0</td>\n",
       "      <td>0</td>\n",
       "      <td>0</td>\n",
       "      <td>0</td>\n",
       "      <td>0</td>\n",
       "      <td>1</td>\n",
       "      <td>0</td>\n",
       "      <td>0</td>\n",
       "      <td>0</td>\n",
       "      <td>0</td>\n",
       "      <td>0</td>\n",
       "      <td>0</td>\n",
       "      <td>0</td>\n",
       "      <td>0</td>\n",
       "    </tr>\n",
       "  </tbody>\n",
       "</table>\n",
       "<p>14061 rows × 17 columns</p>\n",
       "</div>"
      ],
      "text/plain": [
       "       FavoriteCount  ViewCount  AnswerCount  CommentCount  Score  \\\n",
       "0                0.0         36            1             0      0   \n",
       "1                1.0         55            1             0      3   \n",
       "2                0.0         24            1             0      0   \n",
       "3                0.0         37            0             5      2   \n",
       "4                0.0         38            1             0      3   \n",
       "...              ...        ...          ...           ...    ...   \n",
       "14056            0.0         13            1             0     -1   \n",
       "14057            0.0         13            0             2     -1   \n",
       "14058            0.0          4            0             0      0   \n",
       "14059            0.0          5            0             0      0   \n",
       "14060            0.0          4            0             0      0   \n",
       "\n",
       "       machine-learning  python  deep-learning  neural-network  keras  \\\n",
       "0                     1       0              0               0      0   \n",
       "1                     0       0              1               0      0   \n",
       "2                     0       0              0               0      0   \n",
       "3                     0       0              0               0      0   \n",
       "4                     0       0              1               0      0   \n",
       "...                 ...     ...            ...             ...    ...   \n",
       "14056                 0       1              1               0      1   \n",
       "14057                 0       1              0               0      0   \n",
       "14058                 0       0              0               1      0   \n",
       "14059                 0       0              0               0      0   \n",
       "14060                 0       0              0               1      0   \n",
       "\n",
       "       classification  tensorflow  scikit-learn  nlp  cnn  pandas  dataframe  \n",
       "0                   0           0             0    1    0       0          0  \n",
       "1                   0           0             0    0    0       0          0  \n",
       "2                   0           1             1    0    0       0          0  \n",
       "3                   1           0             0    0    0       0          0  \n",
       "4                   0           0             0    0    1       0          0  \n",
       "...               ...         ...           ...  ...  ...     ...        ...  \n",
       "14056               0           0             0    0    1       0          0  \n",
       "14057               0           0             0    0    0       0          0  \n",
       "14058               0           0             0    0    0       0          0  \n",
       "14059               0           0             0    0    0       0          0  \n",
       "14060               0           0             0    0    0       0          0  \n",
       "\n",
       "[14061 rows x 17 columns]"
      ]
     },
     "execution_count": 46,
     "metadata": {},
     "output_type": "execute_result"
    }
   ],
   "source": [
    "tagged_questions = questions[num_cols + tags_cols]\n",
    "tagged_questions"
   ]
  },
  {
   "cell_type": "code",
   "execution_count": 166,
   "metadata": {},
   "outputs": [],
   "source": [
    "def plot_tags_corr(df, cols, title):\n",
    "    ''' Compute and plot a correlation of tags''' \n",
    "    df_corr = df[cols].corr()\n",
    "    plot_corr(df_corr, title, figsize=(20, 10))"
   ]
  },
  {
   "cell_type": "code",
   "execution_count": 167,
   "metadata": {},
   "outputs": [
    {
     "data": {
      "image/png": "[encoded data removed]",
      "text/plain": [
       "<Figure size 1440x720 with 1 Axes>"
      ]
     },
     "metadata": {
      "needs_background": "light"
     },
     "output_type": "display_data"
    }
   ],
   "source": [
    "plot_tags_corr(tagged_questions[tags_cols], tags_cols, \"Tags correlation\")"
   ]
  },
  {
   "cell_type": "markdown",
   "metadata": {},
   "source": [
    "The highest correlations were found between ```pandas``` and ```dataframe```,  ```keras``` and ```tensorflow``` and ```pandas``` and ```python```."
   ]
  },
  {
   "cell_type": "code",
   "execution_count": 172,
   "metadata": {
    "scrolled": true
   },
   "outputs": [
    {
     "data": {
      "text/plain": [
       "pandas      -0.450689\n",
       "dataframe   -0.450689\n",
       "dtype: float64"
      ]
     },
     "execution_count": 172,
     "metadata": {},
     "output_type": "execute_result"
    }
   ],
   "source": [
    "pandas_dataframe = tagged_questions[(tagged_questions[\"pandas\"] == 1) | (tagged_questions[\"dataframe\"] == 1) ]\n",
    "pandas_dataframe_corr = pandas_dataframe[[\"pandas\", \"dataframe\"]].corr()\n",
    "pandas_dataframe_corr.min()"
   ]
  },
  {
   "cell_type": "markdown",
   "metadata": {},
   "source": [
    "If we only consider questions where is ```pandas``` or ```dataframe``` are present, the correlation auments."
   ]
  },
  {
   "cell_type": "code",
   "execution_count": 173,
   "metadata": {},
   "outputs": [
    {
     "data": {
      "text/plain": [
       "keras        -0.581259\n",
       "tensorflow   -0.581259\n",
       "dtype: float64"
      ]
     },
     "execution_count": 173,
     "metadata": {},
     "output_type": "execute_result"
    }
   ],
   "source": [
    "keras_tensorflow = tagged_questions[(tagged_questions[\"keras\"] == 1) | (tagged_questions[\"tensorflow\"] == 1) ]\n",
    "keras_tensorflow_corr = keras_tensorflow[[\"keras\", \"tensorflow\"]].corr()\n",
    "keras_tensorflow_corr.min()"
   ]
  },
  {
   "cell_type": "code",
   "execution_count": 174,
   "metadata": {},
   "outputs": [
    {
     "data": {
      "text/plain": [
       "pandas   -0.545972\n",
       "python   -0.545972\n",
       "dtype: float64"
      ]
     },
     "execution_count": 174,
     "metadata": {},
     "output_type": "execute_result"
    }
   ],
   "source": [
    "pandas_python = tagged_questions[(tagged_questions[\"pandas\"] == 1) | (tagged_questions[\"python\"] == 1) ]\n",
    "pandas_python_corr = pandas_python[[\"pandas\", \"python\"]].corr()\n",
    "pandas_python_corr.min()"
   ]
  },
  {
   "cell_type": "markdown",
   "metadata": {},
   "source": [
    "Same happens for the rest of the tags."
   ]
  },
  {
   "cell_type": "code",
   "execution_count": null,
   "metadata": {},
   "outputs": [],
   "source": []
  }
 ],
 "metadata": {
  "kernelspec": {
   "display_name": "Python 3",
   "language": "python",
   "name": "python3"
  },
  "language_info": {
   "codemirror_mode": {
    "name": "ipython",
    "version": 3
   },
   "file_extension": ".py",
   "mimetype": "text/x-python",
   "name": "python",
   "nbconvert_exporter": "python",
   "pygments_lexer": "ipython3",
   "version": "3.8.5"
  }
 },
 "nbformat": 4,
 "nbformat_minor": 4
}
