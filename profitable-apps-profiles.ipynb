{
 "cells": [
  {
   "cell_type": "markdown",
   "metadata": {},
   "source": [
    "# Profitable apps profiles\n",
    "This document explains the analysis process performed to determine the characteristics of a profitable app published in Google Play and iOS Store. The app main revenue comes from in-app ads."
   ]
  },
  {
   "cell_type": "markdown",
   "metadata": {},
   "source": [
    "### Define an explore data function"
   ]
  },
  {
   "cell_type": "code",
   "execution_count": 1,
   "metadata": {},
   "outputs": [],
   "source": [
    "def explore_data(dataset, start=1, end=4, rows_and_columns=False):\n",
    "    if rows_and_columns:\n",
    "        print('Number of rows:', len(dataset))\n",
    "        print('Number of columns:', len(dataset[0]))\n",
    "        print('\\n')\n",
    "        \n",
    "    dataset_slice = dataset[start:end]\n",
    "    \n",
    "    for row in dataset_slice:\n",
    "        print(row)\n"
   ]
  },
  {
   "cell_type": "markdown",
   "metadata": {},
   "source": [
    "### Read both iOS and Android data"
   ]
  },
  {
   "cell_type": "code",
   "execution_count": 2,
   "metadata": {},
   "outputs": [],
   "source": [
    "android_csv_data = open('/home/li0t/Documents/workspace/data-sets/googleplaystore.csv')\n",
    "ios_csv_data = open('/home/li0t/Documents/workspace/data-sets/AppleStore.csv')\n",
    "\n",
    "from csv import reader\n",
    "\n",
    "# Android Google Play data\n",
    "read_android_data = reader(android_csv_data)\n",
    "android_data_list = list(read_android_data)\n",
    "android_headers = android_data_list[0]\n",
    "android_data_set = android_data_list[1:]\n",
    "\n",
    "# iOS App Store data\n",
    "read_ios_data = reader(ios_csv_data)\n",
    "ios_data_list = list(read_ios_data)\n",
    "ios_headers = ios_data_list[0]\n",
    "ios_data_set = ios_data_list[1:]\n"
   ]
  },
  {
   "cell_type": "markdown",
   "metadata": {},
   "source": [
    "### Display data headers and rows and headers count"
   ]
  },
  {
   "cell_type": "code",
   "execution_count": 3,
   "metadata": {},
   "outputs": [
    {
     "name": "stdout",
     "output_type": "stream",
     "text": [
      "Google Play\n",
      "\n",
      "\n",
      "['App', 'Category', 'Rating', 'Reviews', 'Size', 'Installs', 'Type', 'Price', 'Content Rating', 'Genres', 'Last Updated', 'Current Ver', 'Android Ver']\n",
      "\n",
      "\n",
      "Number of rows: 10841\n",
      "Number of columns: 13\n",
      "\n",
      "\n",
      "['Coloring book moana', 'ART_AND_DESIGN', '3.9', '967', '14M', '500,000+', 'Free', '0', 'Everyone', 'Art & Design;Pretend Play', 'January 15, 2018', '2.0.0', '4.0.3 and up']\n",
      "['U Launcher Lite – FREE Live Cool Themes, Hide Apps', 'ART_AND_DESIGN', '4.7', '87510', '8.7M', '5,000,000+', 'Free', '0', 'Everyone', 'Art & Design', 'August 1, 2018', '1.2.4', '4.0.3 and up']\n",
      "['Sketch - Draw & Paint', 'ART_AND_DESIGN', '4.5', '215644', '25M', '50,000,000+', 'Free', '0', 'Teen', 'Art & Design', 'June 8, 2018', 'Varies with device', '4.2 and up']\n",
      "\n",
      "\n",
      "========================================================================================================\n",
      "\n",
      "iOS App Store\n",
      "\n",
      "\n",
      "['id', 'track_name', 'size_bytes', 'currency', 'price', 'rating_count_tot', 'rating_count_ver', 'user_rating', 'user_rating_ver', 'ver', 'cont_rating', 'prime_genre', 'sup_devices.num', 'ipadSc_urls.num', 'lang.num', 'vpp_lic']\n",
      "\n",
      "\n",
      "Number of rows: 7197\n",
      "Number of columns: 16\n",
      "\n",
      "\n",
      "['389801252', 'Instagram', '113954816', 'USD', '0.0', '2161558', '1289', '4.5', '4.0', '10.23', '12+', 'Photo & Video', '37', '0', '29', '1']\n",
      "['529479190', 'Clash of Clans', '116476928', 'USD', '0.0', '2130805', '579', '4.5', '4.5', '9.24.12', '9+', 'Games', '38', '5', '18', '1']\n",
      "['420009108', 'Temple Run', '65921024', 'USD', '0.0', '1724546', '3842', '4.5', '4.0', '1.6.2', '9+', 'Games', '40', '5', '1', '1']\n"
     ]
    }
   ],
   "source": [
    "print('Google Play')\n",
    "print('\\n')\n",
    "print(android_headers)\n",
    "print('\\n')\n",
    "explore_data(android_data_set, rows_and_columns=True)\n",
    "print('\\n')\n",
    "\n",
    "print('========================================================================================================\\n')\n",
    "\n",
    "print('iOS App Store')\n",
    "print('\\n')\n",
    "print(ios_headers)\n",
    "print('\\n')\n",
    "explore_data(ios_data_set, rows_and_columns=True)"
   ]
  },
  {
   "cell_type": "code",
   "execution_count": 4,
   "metadata": {},
   "outputs": [
    {
     "name": "stdout",
     "output_type": "stream",
     "text": [
      "10471 : 13\n",
      "10472 : 12\n",
      "10473 : 13\n",
      "10474 : 13\n",
      "10475 : 13\n"
     ]
    }
   ],
   "source": [
    "# Checking for reported corrupted row\n",
    "# print(android_data_set[10472])\n",
    "print('10471 : ' + str(len(android_data_set[10471])))\n",
    "print('10472 : ' + str(len(android_data_set[10472])))\n",
    "print('10473 : ' + str(len(android_data_set[10473])))\n",
    "print('10474 : ' + str(len(android_data_set[10474])))\n",
    "print('10475 : ' + str(len(android_data_set[10475])))"
   ]
  },
  {
   "cell_type": "code",
   "execution_count": 5,
   "metadata": {},
   "outputs": [],
   "source": [
    "corrupted_row_index = 10473\n",
    "corrupted_row = android_data_set[corrupted_row_index]\n",
    "\n",
    "cols_length = len(android_data_set[0])\n",
    "if len(corrupted_row) != cols_length:\n",
    "    del android_data_set[corrupted_row_index]"
   ]
  },
  {
   "cell_type": "markdown",
   "metadata": {},
   "source": [
    "## Duplicated data\n",
    "As seen in the following example there are duplicated app names in the android data set:"
   ]
  },
  {
   "cell_type": "code",
   "execution_count": 6,
   "metadata": {},
   "outputs": [
    {
     "name": "stdout",
     "output_type": "stream",
     "text": [
      "Found 1181 duplicated apps names\n",
      "Unique apps are: 9660\n"
     ]
    }
   ],
   "source": [
    "# Deleting duplicates\n",
    "android_unique_names = []\n",
    "android_duplicated_names = []\n",
    "\n",
    "for app in android_data_set:\n",
    "    name = app[0]\n",
    "    if name in android_unique_names:\n",
    "        android_duplicated_names.append(name)\n",
    "    else:\n",
    "        android_unique_names.append(name)\n",
    "\n",
    "print('Found ' + str(len(android_duplicated_names)) + ' duplicated apps names')\n",
    "print('Unique apps are: ' + str(len(android_data_set)  - len(android_duplicated_names)))\n"
   ]
  },
  {
   "cell_type": "markdown",
   "metadata": {},
   "source": [
    "# Cleaning data\n",
    "We'll use the app max reviews as the unique value."
   ]
  },
  {
   "cell_type": "code",
   "execution_count": 7,
   "metadata": {},
   "outputs": [],
   "source": [
    "from datetime import datetime\n",
    "\n",
    "android_duplicated_apps = {}\n",
    "\n",
    "# Find latest version for each duplicated app\n",
    "for dup_app_name in android_duplicated_names:\n",
    "    \n",
    "    for app in android_data_set:\n",
    "        app_name = app[0]\n",
    "    \n",
    "        if app_name == dup_app_name:\n",
    "\n",
    "            if app_name not in android_duplicated_apps:\n",
    "                android_duplicated_apps[app_name] = app\n",
    "            else: \n",
    "                app_reviews = float(app[3])\n",
    "                dup_app_reviews = float(android_duplicated_apps[app_name][3])        \n",
    "                \n",
    "                if app_reviews > dup_app_reviews:\n",
    "                    android_duplicated_apps[app_name] = app\n"
   ]
  },
  {
   "cell_type": "markdown",
   "metadata": {},
   "source": [
    "## Recreating duplicated android app data\n",
    "An array with unique android apps will be created"
   ]
  },
  {
   "cell_type": "code",
   "execution_count": 8,
   "metadata": {},
   "outputs": [
    {
     "name": "stdout",
     "output_type": "stream",
     "text": [
      "Unique android names: 9660\n",
      "Unique android apps: 9660\n"
     ]
    }
   ],
   "source": [
    "android_unique_data_set = []\n",
    "added_duplicates = []\n",
    "\n",
    "for app in android_data_set:\n",
    "    app_name = app[0]\n",
    "    \n",
    "    if app_name in android_duplicated_names:\n",
    "        if app_name not in added_duplicates:\n",
    "            duplicated_app = android_duplicated_apps[app_name]\n",
    "            android_unique_data_set.append(duplicated_app)\n",
    "            added_duplicates.append(app_name)\n",
    "    else:\n",
    "        android_unique_data_set.append(app)\n",
    "\n",
    "print('Unique android names: ' + str(len(android_unique_names)))\n",
    "print('Unique android apps: ' + str(len(android_unique_data_set)))"
   ]
  },
  {
   "cell_type": "markdown",
   "metadata": {},
   "source": [
    "## Deleting non-english apps\n",
    "We'll define a function that checks whether an app name has non-enlgish characters in it, and the use it to clean the apps. "
   ]
  },
  {
   "cell_type": "code",
   "execution_count": 9,
   "metadata": {},
   "outputs": [
    {
     "name": "stdout",
     "output_type": "stream",
     "text": [
      "6183\n",
      "9615\n"
     ]
    }
   ],
   "source": [
    "def isEnglishApp(name):\n",
    "    nonEnglishChars = 0\n",
    "    \n",
    "    for char in name:\n",
    "        charN = ord(char)\n",
    "       \n",
    "        if (charN > 127):\n",
    "            nonEnglishChars += 1\n",
    "    \n",
    "    return nonEnglishChars <= 3\n",
    "\n",
    "# iOS Apps\n",
    "# iOS name index: 1\n",
    "ios_apps = []\n",
    "for app in ios_data_set:\n",
    "    app_name = app[1]\n",
    "    \n",
    "    if isEnglishApp(app_name):\n",
    "        ios_apps.append(app)\n",
    "        \n",
    "# Android Apps     \n",
    "# Android name index: 0\n",
    "android_apps = []        \n",
    "for app in android_unique_data_set:\n",
    "    app_name = app[0]\n",
    "    \n",
    "    if isEnglishApp(app_name):\n",
    "        android_apps.append(app)\n",
    "\n",
    "\n",
    "print(len(ios_apps))\n",
    "print(len(android_apps))"
   ]
  },
  {
   "cell_type": "markdown",
   "metadata": {},
   "source": [
    "# Deleting non-free apps\n",
    "As the analysis will be performed in order to find an optimal profile for an app that has in-app ads revenue, only the free apps will be considered."
   ]
  },
  {
   "cell_type": "code",
   "execution_count": 15,
   "metadata": {},
   "outputs": [
    {
     "name": "stdout",
     "output_type": "stream",
     "text": [
      "Android free apps: 8864\n",
      "iOS free apps: 3222\n"
     ]
    }
   ],
   "source": [
    "# Android Apps   \n",
    "# Android price index: 7\n",
    "android_free_apps = []\n",
    "\n",
    "for app in android_apps:\n",
    "    price = app[7]\n",
    "\n",
    "    if price == '0':\n",
    "        android_free_apps.append(app)\n",
    "\n",
    "print('Android free apps: ' + str(len(android_free_apps)))\n",
    "\n",
    "# iOS Apps\n",
    "# iOS price index: 4\n",
    "ios_free_apps = []\n",
    "\n",
    "for app in ios_apps:\n",
    "    price = float(app[4])\n",
    "\n",
    "    if price == 0.0 or 0:\n",
    "        ios_free_apps.append(app)\n",
    "        \n",
    "print('iOS free apps: ' + str(len(ios_free_apps)))\n",
    "\n"
   ]
  },
  {
   "cell_type": "markdown",
   "metadata": {},
   "source": [
    "# Building profiles\n",
    "As the app that we are building will have it's main revenue source from advertising, the app must a have as much users as it can. For that we'll count the number of users associated with the different genres to find which genres are more popular.\n",
    "\n",
    "## Developement strategy\n",
    "As resources are limited, the first version of the app will be a minimal Android app published in Google Play, if that app proves to be catchy we'll add more features. If after six months after it's release the app becomes profitable, the iOS version will be devolped and published in the App Store."
   ]
  },
  {
   "cell_type": "code",
   "execution_count": 72,
   "metadata": {},
   "outputs": [
    {
     "name": "stdout",
     "output_type": "stream",
     "text": [
      "Android \"Category\"\n",
      "\n",
      "FAMILY : 1676\n",
      "GAME : 862\n",
      "TOOLS : 750\n",
      "BUSINESS : 407\n",
      "LIFESTYLE : 346\n",
      "PRODUCTIVITY : 345\n",
      "FINANCE : 328\n",
      "MEDICAL : 313\n",
      "SPORTS : 301\n",
      "PERSONALIZATION : 294\n",
      "\n",
      "\n",
      "Android \"Genres\"\n",
      "\n",
      "Tools : 749\n",
      "Entertainment : 538\n",
      "Education : 474\n",
      "Business : 407\n",
      "Productivity : 345\n",
      "Lifestyle : 345\n",
      "Finance : 328\n",
      "Medical : 313\n",
      "Sports : 307\n",
      "Personalization : 294\n",
      "\n",
      "\n",
      "iOS \"prime_genres\"\n",
      "\n",
      "Games : 1874\n",
      "Entertainment : 254\n",
      "Photo & Video : 160\n",
      "Education : 118\n",
      "Social Networking : 106\n",
      "Shopping : 84\n",
      "Utilities : 81\n",
      "Sports : 69\n",
      "Music : 66\n",
      "Health & Fitness : 65\n",
      "\n",
      "\n"
     ]
    }
   ],
   "source": [
    "# Build frecuency tables for app genres\n",
    "def freq_table(dataset, index, print_freqs=False):\n",
    "    freqs = {}\n",
    "    \n",
    "    for row in dataset:\n",
    "        value = row[index]\n",
    "        if value in freqs:\n",
    "            freqs[value] += 1\n",
    "        else: \n",
    "            freqs[value] = 1\n",
    "    \n",
    "    if print_freqs:\n",
    "        print(freqs)\n",
    "        \n",
    "    return freqs\n",
    "\n",
    "def sort_table(table, index):\n",
    "    table_display = []\n",
    "    for key in table:\n",
    "        key_val_as_tuple = (table[key], key)\n",
    "        table_display.append(key_val_as_tuple)\n",
    "\n",
    "    table_sorted = sorted(table_display, reverse = True)\n",
    "    \n",
    "    return table_sorted\n",
    "\n",
    "def display_table(table, index, display_count=10):\n",
    "    table_sorted = sort_table(table, index)\n",
    "    for entry in table_sorted[:display_count]:\n",
    "        print(entry[1], ':', entry[0])\n",
    "    \n",
    "\n",
    "        \n",
    "# Android Apps\n",
    "# Android \"Category\" is a single word\n",
    "print('Android \"Category\"\\n')\n",
    "android_category_index = 1\n",
    "android_categories_table = freq_table(android_free_apps, android_category_index)\n",
    "display_table(android_categories_table, android_category_index)\n",
    "print('\\n')\n",
    "\n",
    "# Android \"Genres\" column separates genres with a semicolon \";\"\n",
    "print('Android \"Genres\"\\n')\n",
    "android_genres_index = 9\n",
    "android_genres_table = freq_table(android_free_apps, android_genres_index)\n",
    "display_table(android_genres_table, android_genres_index)\n",
    "print('\\n')\n",
    "\n",
    "# iOS Apps\n",
    "# iOS prime_genre index: 11\n",
    "# iOS prime_genre is a single word\n",
    "print('iOS \"prime_genres\"\\n')\n",
    "ios_prime_genre_index = 11\n",
    "ios_prime_genre_table = freq_table(ios_free_apps, ios_prime_genre_index)\n",
    "display_table(ios_prime_genre_table, ios_prime_genre_index)\n",
    "print('\\n')\n",
    "\n"
   ]
  },
  {
   "cell_type": "markdown",
   "metadata": {},
   "source": [
    "# Users downloads\n",
    "To correctly profile our app we need not just to find which genres have more reviews, but alse determine which apps are downloaded the most. \n",
    "\n",
    "To do that we'll find what's the average download rate for each app genre"
   ]
  },
  {
   "cell_type": "code",
   "execution_count": 120,
   "metadata": {},
   "outputs": [
    {
     "name": "stdout",
     "output_type": "stream",
     "text": [
      "iOS Apps average download per prime_genre\n",
      "\n",
      "Navigation : 86090\n",
      "Reference : 74942\n",
      "Social Networking : 71548\n",
      "Music : 57327\n",
      "Weather : 52280\n",
      "Book : 39758\n",
      "Food & Drink : 33334\n",
      "Finance : 31468\n",
      "Photo & Video : 28442\n",
      "Travel : 28244\n",
      "===============================\n",
      "\n",
      "Android Apps average download per Category\n",
      "\n",
      "COMMUNICATION : 38456119\n",
      "VIDEO_PLAYERS : 24727872\n",
      "SOCIAL : 23253652\n",
      "PHOTOGRAPHY : 17840110\n",
      "PRODUCTIVITY : 16787331\n",
      "GAME : 15588016\n",
      "TRAVEL_AND_LOCAL : 13984078\n",
      "ENTERTAINMENT : 11640706\n",
      "TOOLS : 10801391\n",
      "NEWS_AND_MAGAZINES : 9549178\n",
      "===============================\n",
      "\n",
      "Android Apps average download per Genres\n",
      "\n",
      "Communication : 38456119\n",
      "Adventure;Action & Adventure : 35333333\n",
      "Video Players & Editors : 24947336\n",
      "Social : 23253652\n",
      "Arcade : 22888365\n",
      "Casual : 19569222\n",
      "Puzzle;Action & Adventure : 18366667\n",
      "Photography : 17840110\n",
      "Educational;Action & Adventure : 17016667\n",
      "Productivity : 16787331\n",
      "Communication : 38456119\n",
      "Adventure;Action & Adventure : 35333333\n",
      "Video Players & Editors : 24947336\n",
      "Social : 23253652\n",
      "Arcade : 22888365\n",
      "Casual : 19569222\n",
      "Puzzle;Action & Adventure : 18366667\n",
      "Photography : 17840110\n",
      "Educational;Action & Adventure : 17016667\n",
      "Productivity : 16787331\n",
      "===============================\n",
      "\n",
      "#1 average downloads: 25666109 = (Navigation + COMMUNICATION + Communication)\n",
      "#2 average downloads: 20045382 = (Reference + VIDEO_PLAYERS + Adventure;Action & Adventure)\n",
      "#3 average downloads: 16090845 = (Social Networking + SOCIAL + Video Players & Editors)\n",
      "#4 average downloads: 13717030 = (Music + PHOTOGRAPHY + Social)\n",
      "#5 average downloads: 13242659 = (Weather + PRODUCTIVITY + Arcade)\n"
     ]
    }
   ],
   "source": [
    "\n",
    "def find_genres_avg(dataset, genre_index, downloads_index, parse_downloads=False):\n",
    "    app_freq_table = freq_table(dataset, genre_index)\n",
    "    downloads_avg = {}\n",
    "        \n",
    "    for app_genre in app_freq_table:\n",
    "        genre_total = 0\n",
    "        downloads_total = 0\n",
    "        \n",
    "        for row in dataset:\n",
    "            row_genre = row[genre_index]    \n",
    "            row_downloads = 0\n",
    "            \n",
    "            if parse_downloads:\n",
    "                row_downloads = float(row[downloads_index].replace('+','').replace(',', ''))\n",
    "            else:\n",
    "                row_downloads = float(row[downloads_index])\n",
    "            \n",
    "            if row_genre == app_genre:\n",
    "                genre_total += 1\n",
    "                downloads_total += row_downloads\n",
    "        \n",
    "        downloads_avg[app_genre] =  round(downloads_total / genre_total) \n",
    "        \n",
    "    return downloads_avg\n",
    "                \n",
    "                \n",
    "print('iOS Apps average download per prime_genre\\n')\n",
    "ios_rating_count_tot = 5\n",
    "ios_genres_avg = find_genres_avg(ios_free_apps, ios_prime_genre_index, ios_rating_count_tot, True)\n",
    "display_table(ios_genres_avg, ios_prime_genre_index)\n",
    "print('===============================\\n')\n",
    "\n",
    "print('Android Apps average download per Category\\n')\n",
    "android_installs_index = 5\n",
    "android_categories_avg = find_genres_avg(android_free_apps, android_category_index, android_installs_index, True)\n",
    "display_table(android_categories_avg, android_category_index)\n",
    "print('===============================\\n')\n",
    "\n",
    "print('Android Apps average download per Genres\\n')\n",
    "android_installs_index = 5\n",
    "android_genres_avg = find_genres_avg(android_free_apps, android_genres_index, android_installs_index, True)\n",
    "display_table(android_genres_avg, android_genres_index)\n",
    "\n",
    "display_table(android_genres_avg, android_genres_index)\n",
    "print('===============================\\n')\n",
    "\n",
    "L = [0, 1, 2, 3, 4]\n",
    "\n",
    "def find_most_popular():\n",
    "    most_popular_genre = None\n",
    "    \n",
    "    for i, n in enumerate(L):\n",
    "        ios_most_popular_n = sort_table(ios_genres_avg, ios_prime_genre_index)[n:n+1]\n",
    "        android_c_most_popular_n = sort_table(android_categories_avg, android_category_index)[n:n+1]\n",
    "        android_g_most_popular_n = sort_table(android_genres_avg, android_genres_index)[n:n+1]\n",
    "        \n",
    "        most_popular_rate_n = round((ios_most_popular_n[0][0]  + android_c_most_popular_n[0][0] + android_g_most_popular_n[0][0]) / 3)\n",
    "        print('#' +str(n+1) + ' ' + 'average downloads: ' + str(most_popular_rate_n) + ' = (' + ios_most_popular_n[0][1] + ' + ' + android_c_most_popular_n[0][1] + ' + ' + android_g_most_popular_n[0][1] + ')') \n",
    "           \n",
    " \n",
    "    \n",
    "find_most_popular()"
   ]
  },
  {
   "cell_type": "markdown",
   "metadata": {},
   "source": [
    "# Conclusions\n",
    "As seen above there are similarities in the profiles of popular apps for both Google Play and iOS App Store. Specifically the entertainment, social, and tools apps are the most popular genres with the greatest number of average downloads.\n",
    "\n",
    "## iOS differences\n",
    "It's easy to see that the priorities for iOS users diverge from that of the Android users, being more popular the tools over entertainment although the social apps have practically the same protagonisms in both platforms.\n",
    "\n",
    "## Development strategy\n",
    "As stated in the beginning of this analysis the first step of the development will be a minimal android app that, only if it becomes profitable will be ported to iOS. \n",
    "\n",
    "So let's consider the following facts:\n",
    "1. The early users of the app will be Android users.\n",
    "2. The number of downloads per genre is much greater in Android apps.\n",
    "\n",
    "Given that the most reasonable conclusion is that to develop an app that is most popular on Android primarily, but as the market will expand into iOS eventually we'll also need to consider that genre that shares the most similar download rate in both markets. That said, the greater user base of Android makes comunnication apps an irresistible option. \n",
    "\n",
    "**Thus the optimal app profile which it's main revenue comes from advertising is a free English-spoken communication app.**\n",
    "\n",
    "\n",
    "\n"
   ]
  }
 ],
 "metadata": {
  "kernelspec": {
   "display_name": "Python 3",
   "language": "python",
   "name": "python3"
  },
  "language_info": {
   "codemirror_mode": {
    "name": "ipython",
    "version": 3
   },
   "file_extension": ".py",
   "mimetype": "text/x-python",
   "name": "python",
   "nbconvert_exporter": "python",
   "pygments_lexer": "ipython3",
   "version": "3.6.9"
  }
 },
 "nbformat": 4,
 "nbformat_minor": 4
}
